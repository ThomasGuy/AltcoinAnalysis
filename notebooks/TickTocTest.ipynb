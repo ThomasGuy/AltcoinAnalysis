{
 "cells": [
  {
   "cell_type": "code",
   "execution_count": 1,
   "metadata": {},
   "outputs": [],
   "source": [
    "import pandas as pd\n",
    "import matplotlib.pyplot as plt\n",
    "from sqlalchemy import func\n",
    "%matplotlib inline"
   ]
  },
  {
   "cell_type": "code",
   "execution_count": 2,
   "metadata": {},
   "outputs": [],
   "source": [
    "from TickTocTest.ticktoctest.models import all_DB_tables\n",
    "from TickTocTest.ticktoctest.tickToc import db_session, getDBdata\n",
    "from TickTocTest.ticktoctest.utils import DF_Tables\n",
    "from Altcoin.altcoin.coinData import CoinData"
   ]
  },
  {
   "cell_type": "code",
   "execution_count": 3,
   "metadata": {},
   "outputs": [],
   "source": [
    "table = all_DB_tables()['btc']\n",
    "Session = db_session()\n",
    "session = Session()"
   ]
  },
  {
   "cell_type": "code",
   "execution_count": 6,
   "metadata": {},
   "outputs": [
    {
     "data": {
      "text/plain": [
       "1546383600.0"
      ]
     },
     "execution_count": 6,
     "metadata": {},
     "output_type": "execute_result"
    }
   ],
   "source": [
    "query = session.query(table.MTS)\n",
    "query = query.filter(table.MTS == session.query(func.max(table.MTS))).first()\n",
    "query[0].timestamp()"
   ]
  },
  {
   "cell_type": "code",
   "execution_count": null,
   "metadata": {},
   "outputs": [],
   "source": []
  },
  {
   "cell_type": "code",
   "execution_count": null,
   "metadata": {},
   "outputs": [],
   "source": [
    "data = session.query(table.MTS, table.Open, table.Close, table.High, table.Low).all()\n",
    "df = pd.DataFrame(data)\n",
    "df.set_index('MTS', drop=True, inplace=True)\n",
    "latest_timestamp = df.index.max()\n",
    "base = latest_timestamp.hour + latest_timestamp.minute / 60.0\n",
    "df.drop_duplicates()\n",
    "df.tail()"
   ]
  },
  {
   "cell_type": "code",
   "execution_count": null,
   "metadata": {},
   "outputs": [],
   "source": [
    "df = df.resample(rule='6H', closed='right', label='right', base=base).agg({'Open': 'first', 'Close': 'last', 'High': 'max', 'Low': 'min'})"
   ]
  },
  {
   "cell_type": "code",
   "execution_count": null,
   "metadata": {},
   "outputs": [],
   "source": [
    "df.tail()"
   ]
  },
  {
   "cell_type": "code",
   "execution_count": null,
   "metadata": {},
   "outputs": [],
   "source": []
  }
 ],
 "metadata": {
  "kernelspec": {
   "display_name": "Python 3",
   "language": "python",
   "name": "python3"
  },
  "language_info": {
   "codemirror_mode": {
    "name": "ipython",
    "version": 3
   },
   "file_extension": ".py",
   "mimetype": "text/x-python",
   "name": "python",
   "nbconvert_exporter": "python",
   "pygments_lexer": "ipython3",
   "version": "3.6.6"
  }
 },
 "nbformat": 4,
 "nbformat_minor": 2
}
