{
 "cells": [
  {
   "cell_type": "code",
   "execution_count": 1,
   "metadata": {},
   "outputs": [],
   "source": [
    "import pandas as pd\n",
    "import matplotlib as plt\n",
    "%matplotlib inline\n",
    "from TickTocTest.ticktoctest.masterDB import mergeMaster, updateDB, engine_master, tables\n",
    "from TickTocTest.ticktoctest.tickToc import getDBdata, db_session, getDF\n",
    "from Altcoin.altcoin.coinData import CoinData\n",
    "from Altcoin.altcoin.getData import getData\n",
    "import requests, json\n",
    "from datetime import datetime, timedelta"
   ]
  },
  {
   "cell_type": "code",
   "execution_count": 2,
   "metadata": {},
   "outputs": [
    {
     "data": {
      "text/plain": [
       "(datetime.datetime(2018, 12, 1, 0, 0), datetime.datetime(2018, 12, 2, 14, 0))"
      ]
     },
     "execution_count": 2,
     "metadata": {},
     "output_type": "execute_result"
    }
   ],
   "source": [
    "start = datetime.strptime('2018-12-01 00:00:00', '%Y-%m-%d %H:%M:%S')\n",
    "finish = datetime.strptime('2018-12-02 14:00:00', '%Y-%m-%d %H:%M:%S')\n",
    "start, finish"
   ]
  },
  {
   "cell_type": "code",
   "execution_count": null,
   "metadata": {},
   "outputs": [],
   "source": [
    "# starts = str(int(start.timestamp())*1000)\n",
    "# finishs = str(int(finish.timestamp())*1000)\n",
    "# starts, finishs\n"
   ]
  },
  {
   "cell_type": "markdown",
   "metadata": {},
   "source": [
    "Couldn't get bitfinex endpoint to work with ?start=starts?end=finishs. So I grabbed a ?limit=1000 and cropped it"
   ]
  },
  {
   "cell_type": "code",
   "execution_count": null,
   "metadata": {},
   "outputs": [],
   "source": [
    "# url = f'https://api.bitfinex.com/v2/candles/trade:15m:t{sym}USD/hist?limit=1000'"
   ]
  },
  {
   "cell_type": "markdown",
   "metadata": {},
   "source": [
    "# OOPS\n",
    "This worked fine for 'OMG' but then put the 'OMG' data into 'trx' table. So now we need to delete some\n",
    "rows from 'trx' table\n",
    "\n",
    "#### The Amswer is put the url (line above) inthe for loop below ... Doh\n"
   ]
  },
  {
   "cell_type": "code",
   "execution_count": null,
   "metadata": {},
   "outputs": [],
   "source": [
    "# with engine_master.begin() as conn:\n",
    "#     for sym in ['OMG', 'TRX']:\n",
    "#         url = f'https://api.bitfinex.com/v2/candles/trade:15m:t{sym}USD/hist?limit=1000'\n",
    "#         res = requests.get(url)\n",
    "#         data = res.json()\n",
    "#         df = pd.DataFrame(data, columns=['MTS', 'Open','Close','High','Low','Volume'])\n",
    "#         df.set_index('MTS', drop=True, inplace=True)\n",
    "#         df.sort_values(by=['MTS'], inplace=True)\n",
    "#         df.index = pd.to_datetime(df.index, unit='ms')\n",
    "#         DF = df.loc['2018-12-01': '2018-12-02 14:0:0'].copy()\n",
    "        \n",
    "#         updateDB(DF, tables[sym.lower()], conn)"
   ]
  },
  {
   "cell_type": "code",
   "execution_count": null,
   "metadata": {},
   "outputs": [],
   "source": [
    "# Session = db_session()\n",
    "# session= Session()\n",
    "# trx = CoinData('trx', getDBdata, session)\n",
    "# trx.plot('2018-11-01')"
   ]
  },
  {
   "cell_type": "markdown",
   "metadata": {},
   "source": [
    "### Delete some rows"
   ]
  },
  {
   "cell_type": "code",
   "execution_count": null,
   "metadata": {},
   "outputs": [],
   "source": [
    "# query = session.query(table.MTS)\n",
    "# query = query.filter((table.MTS >= start) & (table.MTS <= finish))"
   ]
  },
  {
   "cell_type": "code",
   "execution_count": null,
   "metadata": {},
   "outputs": [],
   "source": [
    "# query.delete()\n",
    "# session.commit()"
   ]
  },
  {
   "cell_type": "code",
   "execution_count": null,
   "metadata": {},
   "outputs": [],
   "source": [
    "# trx.plot('2018-11-01')"
   ]
  },
  {
   "cell_type": "code",
   "execution_count": null,
   "metadata": {},
   "outputs": [],
   "source": [
    "# session.close()"
   ]
  },
  {
   "cell_type": "markdown",
   "metadata": {},
   "source": [
    "### Get Bitfinex data"
   ]
  },
  {
   "cell_type": "code",
   "execution_count": null,
   "metadata": {},
   "outputs": [],
   "source": [
    "# with engine_master.begin() as conn:\n",
    "sym = EDO\n",
    "url = f'https://api.bitfinex.com/v2/candles/trade:15m:t{sym}USD/hist?limit=1000'\n",
    "res = requests.get(url)\n",
    "data = res.json()\n",
    "df = pd.DataFrame(data, columns=['MTS', 'Open','Close','High','Low','Volume'])\n",
    "df.set_index('MTS', drop=True, inplace=True)\n",
    "df.sort_values(by=['MTS'], inplace=True)\n",
    "df.index = pd.to_datetime(df.index, unit='ms')\n",
    "DF = df.loc[start: finish].copy()\n",
    "\n",
    "#     updateDB(DF, tables[sym.lower()], conn)\n",
    "DF.head(20)"
   ]
  },
  {
   "cell_type": "markdown",
   "metadata": {},
   "source": [
    "### Get Compare data update missing data\n"
   ]
  },
  {
   "cell_type": "code",
   "execution_count": 3,
   "metadata": {},
   "outputs": [],
   "source": [
    "# coins = ['XEM','BNB','BCN','ICX','ONT','ZIL','AE','ZRX']\n",
    "coins = ['BCH']\n",
    "with engine_master.begin() as conn:\n",
    "    for sym in coins:\n",
    "        compare_url = f'https://min-api.cryptocompare.com/data/histohour?fsym={sym}&tsym=USD&limit=2000&aggregate=1&e=CCCAGG'\n",
    "        res = requests.get(compare_url)\n",
    "        data = res.json()\n",
    "        if data['Type'] >= 100:\n",
    "            DF = pd.DataFrame(data['Data'][1:])\n",
    "            DF['MTS'] = pd.to_datetime(DF['time'], unit='s')\n",
    "            DF['Volume'] = DF['volumefrom'] + DF['volumeto']\n",
    "            DF.drop(['time', 'volumefrom', 'volumeto'], inplace=True, axis=1)\n",
    "            DF.set_index('MTS', drop=True, inplace=True)\n",
    "            DF.rename(columns={'close': 'Close', 'open': 'Open', 'low': 'Low', 'high': 'High'},\n",
    "                      inplace=True)\n",
    "            DF = DF[['Open', 'Close', 'High', 'Low', 'Volume']]\n",
    "        else: \n",
    "            print(data['Type'], sym)\n",
    "            \n",
    "#         updateDB(DF, tables[sym.lower()], conn)"
   ]
  },
  {
   "cell_type": "code",
   "execution_count": 4,
   "metadata": {},
   "outputs": [
    {
     "name": "stdout",
     "output_type": "stream",
     "text": [
      "<class 'pandas.core.frame.DataFrame'>\n",
      "DatetimeIndex: 2000 entries, 2018-09-27 06:00:00 to 2018-12-19 13:00:00\n",
      "Data columns (total 5 columns):\n",
      "Open      2000 non-null float64\n",
      "Close     2000 non-null float64\n",
      "High      2000 non-null float64\n",
      "Low       2000 non-null float64\n",
      "Volume    2000 non-null float64\n",
      "dtypes: float64(5)\n",
      "memory usage: 93.8 KB\n"
     ]
    }
   ],
   "source": [
    "DF.info()"
   ]
  },
  {
   "cell_type": "code",
   "execution_count": null,
   "metadata": {},
   "outputs": [],
   "source": []
  },
  {
   "cell_type": "code",
   "execution_count": null,
   "metadata": {},
   "outputs": [],
   "source": []
  },
  {
   "cell_type": "code",
   "execution_count": null,
   "metadata": {},
   "outputs": [],
   "source": []
  },
  {
   "cell_type": "code",
   "execution_count": 5,
   "metadata": {},
   "outputs": [],
   "source": [
    "from TickTocTest.ticktoctest.tickToc import getDF\n",
    "db_name = f'sqlite:///c:\\\\data\\\\sqlite\\\\db\\\\master_db.db'\n",
    "Session = db_session(db_name)\n",
    "session = Session()"
   ]
  },
  {
   "cell_type": "code",
   "execution_count": 6,
   "metadata": {},
   "outputs": [],
   "source": [
    "# Combine Altcoin with mysql ticktoc15m.db\n",
    "for coin in ['BCHUSD']:\n",
    "    sym = coin[:-3]\n",
    "    df6 = getData(sym, '6h')\n",
    "    df1 = getData(sym, '1h')\n",
    "    db_df = getDF(sym.lower(), session)\n",
    "    \n",
    "    dfata = pd.concat([df6, df1, db_df, DF])\n",
    "    dfata.drop_duplicates(inplace=True)\n",
    "    dfata = DF.groupby('MTS')['Open', 'Close', 'High', 'Low', 'Volume'].mean()\n",
    "    dfata.sort_values(by=['MTS'])\n"
   ]
  },
  {
   "cell_type": "code",
   "execution_count": 8,
   "metadata": {
    "scrolled": true
   },
   "outputs": [
    {
     "name": "stdout",
     "output_type": "stream",
     "text": [
      "<class 'pandas.core.frame.DataFrame'>\n",
      "DatetimeIndex: 2000 entries, 2018-09-27 06:00:00 to 2018-12-19 13:00:00\n",
      "Data columns (total 5 columns):\n",
      "Open      2000 non-null float64\n",
      "Close     2000 non-null float64\n",
      "High      2000 non-null float64\n",
      "Low       2000 non-null float64\n",
      "Volume    2000 non-null float64\n",
      "dtypes: float64(5)\n",
      "memory usage: 93.8 KB\n"
     ]
    }
   ],
   "source": [
    "dfata.info()"
   ]
  },
  {
   "cell_type": "code",
   "execution_count": null,
   "metadata": {},
   "outputs": [],
   "source": []
  },
  {
   "cell_type": "code",
   "execution_count": null,
   "metadata": {},
   "outputs": [],
   "source": []
  },
  {
   "cell_type": "code",
   "execution_count": null,
   "metadata": {},
   "outputs": [],
   "source": []
  }
 ],
 "metadata": {
  "kernelspec": {
   "display_name": "Python 3",
   "language": "python",
   "name": "python3"
  },
  "language_info": {
   "codemirror_mode": {
    "name": "ipython",
    "version": 3
   },
   "file_extension": ".py",
   "mimetype": "text/x-python",
   "name": "python",
   "nbconvert_exporter": "python",
   "pygments_lexer": "ipython3",
   "version": "3.6.6"
  }
 },
 "nbformat": 4,
 "nbformat_minor": 2
}
