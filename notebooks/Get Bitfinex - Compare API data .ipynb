{
 "cells": [
  {
   "cell_type": "code",
   "execution_count": 1,
   "metadata": {},
   "outputs": [],
   "source": [
    "import pandas as  pd\n",
    "from sqlalchemy import create_engine\n",
    "import pymysql\n",
    "import matplotlib.pyplot as plt\n",
    "%matplotlib inline"
   ]
  },
  {
   "cell_type": "code",
   "execution_count": 2,
   "metadata": {},
   "outputs": [],
   "source": [
    "from TickTocTest.ticktoctest.utils import Return_API_response\n",
    "from TickTocTest.ticktoctest.models import Base, Ada, Btc, Neo, Mana, Bitfinex_DB_Tables, Compare_DB_Tables"
   ]
  },
  {
   "cell_type": "code",
   "execution_count": null,
   "metadata": {},
   "outputs": [],
   "source": [
    "bitfinexURL = 'https://api.bitfinex.com/v2/candles/trade:'\n",
    "compareURL = 'https://min-api.cryptocompare.com/data/histohour?'"
   ]
  },
  {
   "cell_type": "markdown",
   "metadata": {},
   "source": [
    "# BITFINEX: "
   ]
  },
  {
   "cell_type": "markdown",
   "metadata": {},
   "source": [
    "✌"
   ]
  },
  {
   "cell_type": "code",
   "execution_count": null,
   "metadata": {},
   "outputs": [],
   "source": [
    "resp = Return_API_response()"
   ]
  },
  {
   "cell_type": "code",
   "execution_count": null,
   "metadata": {
    "scrolled": true
   },
   "outputs": [],
   "source": [
    "data = resp.api_response(bitfinexURL + '6h:tBTCUSD/hist?limit=10')[::-1]\n",
    "df=  pd.DataFrame(data, columns=['MTS','Open','Close','High','Low','Volume'])\n",
    "df['MTS'] = pd.to_datetime(df['MTS'], unit='ms')\n",
    "df.set_index('MTS',drop=True,inplace=True)\n",
    "df"
   ]
  },
  {
   "cell_type": "code",
   "execution_count": null,
   "metadata": {},
   "outputs": [],
   "source": [
    "df.index[-1]"
   ]
  },
  {
   "cell_type": "code",
   "execution_count": null,
   "metadata": {},
   "outputs": [],
   "source": [
    "resp.close_session()\n",
    "resp2= Return_API_response()"
   ]
  },
  {
   "cell_type": "markdown",
   "metadata": {},
   "source": [
    "# CryptoCompare"
   ]
  },
  {
   "cell_type": "code",
   "execution_count": null,
   "metadata": {},
   "outputs": [],
   "source": [
    "data = resp2.api_response(compareURL+ 'fsym=BTC&tsym=USD&limit=10&aggregate=6&e=CCCAGG')\n",
    "compDF= pd.DataFrame.from_dict(data['Data'])\n",
    "compDF"
   ]
  },
  {
   "cell_type": "code",
   "execution_count": null,
   "metadata": {},
   "outputs": [],
   "source": [
    "compDF['MTS'] = pd.to_datetime(compDF['time'], unit='s')\n",
    "compDF['Volume'] = compDF['volumefrom'] + compDF['volumeto']\n",
    "compDF.drop(['time','volumefrom','volumeto'], inplace=True, axis=1)\n",
    "compDF.set_index('MTS', drop=True, inplace=True)\n",
    "compDF.rename(index=str, columns={'close': 'Close', 'open': 'Open', 'low': 'Low', 'high': 'High'}, inplace=True)\n",
    "compDF = compDF[['Open', 'Close', 'High', 'Low', 'Volume']]\n",
    "compDF"
   ]
  },
  {
   "cell_type": "code",
   "execution_count": null,
   "metadata": {},
   "outputs": [],
   "source": [
    "resp2.close_session()"
   ]
  },
  {
   "cell_type": "markdown",
   "metadata": {},
   "source": [
    "## Binance API"
   ]
  },
  {
   "cell_type": "markdown",
   "metadata": {},
   "source": [
    "Binnance API.  https://api.binance.com\n",
    " - All time and timestamp related fields are in milliseconds.\n",
    " - HTTP 4XX return codes are used for for malformed requests; the issue is on the sender's side.\n",
    " - HTTP 429 return code is used when breaking a request rate limit.\n",
    " - HTTP 418 return code is used when an IP has been auto-banned for continuing to send requests after receiving 429 codes.\n",
    " - HTTP 5XX return codes are used for internal errors; the issue is on Binance's side. It is important to NOT treat this as a failure operation; the execution status is UNKNOWN and could have been a success."
   ]
  },
  {
   "cell_type": "code",
   "execution_count": 13,
   "metadata": {},
   "outputs": [],
   "source": [
    "binance_URL  = 'https://api.binance.com/api/v1/klines?symbol=BCHSVUSDT&interval=1h&limit=1000'\n",
    "server_time  = 'https://api.binance.com/api/v1/time'\n",
    "# ticker_price = 'https://api.binance.com/api/v3/ticker/price?symbol=GVTUSDT'"
   ]
  },
  {
   "cell_type": "code",
   "execution_count": 14,
   "metadata": {},
   "outputs": [],
   "source": [
    "res= Return_API_response()"
   ]
  },
  {
   "cell_type": "code",
   "execution_count": 15,
   "metadata": {
    "scrolled": false
   },
   "outputs": [
    {
     "data": {
      "text/plain": [
       "{'serverTime': 1543382693301}"
      ]
     },
     "execution_count": 15,
     "metadata": {},
     "output_type": "execute_result"
    }
   ],
   "source": [
    "data = res.api_response(server_time)\n",
    "data"
   ]
  },
  {
   "cell_type": "code",
   "execution_count": 16,
   "metadata": {},
   "outputs": [
    {
     "data": {
      "text/plain": [
       "Timestamp('2018-11-28 05:24:53.301000')"
      ]
     },
     "execution_count": 16,
     "metadata": {},
     "output_type": "execute_result"
    }
   ],
   "source": [
    "BiTime = pd.to_datetime(data['serverTime'], unit='ms')\n",
    "BiTime"
   ]
  },
  {
   "cell_type": "code",
   "execution_count": 17,
   "metadata": {},
   "outputs": [],
   "source": [
    "BiData = res.api_response(binance_URL)\n",
    "# ticker = res.api_response(ticker_price)\n",
    "res.close_session()"
   ]
  },
  {
   "cell_type": "code",
   "execution_count": null,
   "metadata": {},
   "outputs": [],
   "source": []
  },
  {
   "cell_type": "code",
   "execution_count": 18,
   "metadata": {},
   "outputs": [
    {
     "data": {
      "text/plain": [
       "[1542355200000,\n",
       " '89.74000000',\n",
       " '152.00000000',\n",
       " '78.00000000',\n",
       " '123.85000000',\n",
       " '46140.64683000',\n",
       " 1542358799999,\n",
       " '5386433.38638400',\n",
       " 11388,\n",
       " '22998.01173000',\n",
       " '2692742.50792170',\n",
       " '0']"
      ]
     },
     "execution_count": 18,
     "metadata": {},
     "output_type": "execute_result"
    }
   ],
   "source": [
    "BiData[0]"
   ]
  },
  {
   "cell_type": "code",
   "execution_count": 19,
   "metadata": {},
   "outputs": [
    {
     "data": {
      "text/html": [
       "<div>\n",
       "<style scoped>\n",
       "    .dataframe tbody tr th:only-of-type {\n",
       "        vertical-align: middle;\n",
       "    }\n",
       "\n",
       "    .dataframe tbody tr th {\n",
       "        vertical-align: top;\n",
       "    }\n",
       "\n",
       "    .dataframe thead th {\n",
       "        text-align: right;\n",
       "    }\n",
       "</style>\n",
       "<table border=\"1\" class=\"dataframe\">\n",
       "  <thead>\n",
       "    <tr style=\"text-align: right;\">\n",
       "      <th></th>\n",
       "      <th>MTS</th>\n",
       "      <th>Open</th>\n",
       "      <th>High</th>\n",
       "      <th>Low</th>\n",
       "      <th>Close</th>\n",
       "      <th>Volume</th>\n",
       "      <th>MTS_close</th>\n",
       "      <th>a</th>\n",
       "      <th>b</th>\n",
       "      <th>c</th>\n",
       "      <th>d</th>\n",
       "      <th>e</th>\n",
       "    </tr>\n",
       "  </thead>\n",
       "  <tbody>\n",
       "    <tr>\n",
       "      <th>281</th>\n",
       "      <td>1543366800000</td>\n",
       "      <td>100.04000000</td>\n",
       "      <td>101.10000000</td>\n",
       "      <td>92.00000000</td>\n",
       "      <td>93.24000000</td>\n",
       "      <td>42666.12259000</td>\n",
       "      <td>1543370399999</td>\n",
       "      <td>4087763.14501830</td>\n",
       "      <td>6668</td>\n",
       "      <td>13234.94878000</td>\n",
       "      <td>1270761.84712240</td>\n",
       "      <td>0</td>\n",
       "    </tr>\n",
       "    <tr>\n",
       "      <th>282</th>\n",
       "      <td>1543370400000</td>\n",
       "      <td>93.24000000</td>\n",
       "      <td>97.00000000</td>\n",
       "      <td>92.39000000</td>\n",
       "      <td>94.10000000</td>\n",
       "      <td>22141.80863000</td>\n",
       "      <td>1543373999999</td>\n",
       "      <td>2090106.73866700</td>\n",
       "      <td>4746</td>\n",
       "      <td>12216.65625000</td>\n",
       "      <td>1154972.28281680</td>\n",
       "      <td>0</td>\n",
       "    </tr>\n",
       "    <tr>\n",
       "      <th>283</th>\n",
       "      <td>1543374000000</td>\n",
       "      <td>94.37000000</td>\n",
       "      <td>96.39000000</td>\n",
       "      <td>93.09000000</td>\n",
       "      <td>93.34000000</td>\n",
       "      <td>13054.41881000</td>\n",
       "      <td>1543377599999</td>\n",
       "      <td>1238258.80145050</td>\n",
       "      <td>3414</td>\n",
       "      <td>6277.00275000</td>\n",
       "      <td>596792.93695240</td>\n",
       "      <td>0</td>\n",
       "    </tr>\n",
       "    <tr>\n",
       "      <th>284</th>\n",
       "      <td>1543377600000</td>\n",
       "      <td>93.34000000</td>\n",
       "      <td>95.34000000</td>\n",
       "      <td>91.00000000</td>\n",
       "      <td>92.66000000</td>\n",
       "      <td>15889.17210000</td>\n",
       "      <td>1543381199999</td>\n",
       "      <td>1477786.34358780</td>\n",
       "      <td>3941</td>\n",
       "      <td>7127.83906000</td>\n",
       "      <td>664733.23294630</td>\n",
       "      <td>0</td>\n",
       "    </tr>\n",
       "    <tr>\n",
       "      <th>285</th>\n",
       "      <td>1543381200000</td>\n",
       "      <td>92.52000000</td>\n",
       "      <td>93.55000000</td>\n",
       "      <td>91.01000000</td>\n",
       "      <td>91.53000000</td>\n",
       "      <td>5593.50623000</td>\n",
       "      <td>1543384799999</td>\n",
       "      <td>514582.86888860</td>\n",
       "      <td>1475</td>\n",
       "      <td>2578.26885000</td>\n",
       "      <td>237713.31934840</td>\n",
       "      <td>0</td>\n",
       "    </tr>\n",
       "  </tbody>\n",
       "</table>\n",
       "</div>"
      ],
      "text/plain": [
       "               MTS          Open          High          Low        Close  \\\n",
       "281  1543366800000  100.04000000  101.10000000  92.00000000  93.24000000   \n",
       "282  1543370400000   93.24000000   97.00000000  92.39000000  94.10000000   \n",
       "283  1543374000000   94.37000000   96.39000000  93.09000000  93.34000000   \n",
       "284  1543377600000   93.34000000   95.34000000  91.00000000  92.66000000   \n",
       "285  1543381200000   92.52000000   93.55000000  91.01000000  91.53000000   \n",
       "\n",
       "             Volume      MTS_close                 a     b               c  \\\n",
       "281  42666.12259000  1543370399999  4087763.14501830  6668  13234.94878000   \n",
       "282  22141.80863000  1543373999999  2090106.73866700  4746  12216.65625000   \n",
       "283  13054.41881000  1543377599999  1238258.80145050  3414   6277.00275000   \n",
       "284  15889.17210000  1543381199999  1477786.34358780  3941   7127.83906000   \n",
       "285   5593.50623000  1543384799999   514582.86888860  1475   2578.26885000   \n",
       "\n",
       "                    d  e  \n",
       "281  1270761.84712240  0  \n",
       "282  1154972.28281680  0  \n",
       "283   596792.93695240  0  \n",
       "284   664733.23294630  0  \n",
       "285   237713.31934840  0  "
      ]
     },
     "execution_count": 19,
     "metadata": {},
     "output_type": "execute_result"
    }
   ],
   "source": [
    "df = pd.DataFrame(BiData, columns=['MTS','Open','High','Low','Close','Volume', 'MTS_close', 'a', 'b', 'c', 'd','e'])\n",
    "df.tail()"
   ]
  },
  {
   "cell_type": "code",
   "execution_count": 20,
   "metadata": {},
   "outputs": [
    {
     "data": {
      "text/html": [
       "<div>\n",
       "<style scoped>\n",
       "    .dataframe tbody tr th:only-of-type {\n",
       "        vertical-align: middle;\n",
       "    }\n",
       "\n",
       "    .dataframe tbody tr th {\n",
       "        vertical-align: top;\n",
       "    }\n",
       "\n",
       "    .dataframe thead th {\n",
       "        text-align: right;\n",
       "    }\n",
       "</style>\n",
       "<table border=\"1\" class=\"dataframe\">\n",
       "  <thead>\n",
       "    <tr style=\"text-align: right;\">\n",
       "      <th></th>\n",
       "      <th>MTS</th>\n",
       "      <th>Open</th>\n",
       "      <th>High</th>\n",
       "      <th>Low</th>\n",
       "      <th>Close</th>\n",
       "      <th>Volume</th>\n",
       "    </tr>\n",
       "  </thead>\n",
       "  <tbody>\n",
       "    <tr>\n",
       "      <th>281</th>\n",
       "      <td>2018-11-28 01:00:00</td>\n",
       "      <td>100.04000000</td>\n",
       "      <td>101.10000000</td>\n",
       "      <td>92.00000000</td>\n",
       "      <td>93.24000000</td>\n",
       "      <td>42666.12259000</td>\n",
       "    </tr>\n",
       "    <tr>\n",
       "      <th>282</th>\n",
       "      <td>2018-11-28 02:00:00</td>\n",
       "      <td>93.24000000</td>\n",
       "      <td>97.00000000</td>\n",
       "      <td>92.39000000</td>\n",
       "      <td>94.10000000</td>\n",
       "      <td>22141.80863000</td>\n",
       "    </tr>\n",
       "    <tr>\n",
       "      <th>283</th>\n",
       "      <td>2018-11-28 03:00:00</td>\n",
       "      <td>94.37000000</td>\n",
       "      <td>96.39000000</td>\n",
       "      <td>93.09000000</td>\n",
       "      <td>93.34000000</td>\n",
       "      <td>13054.41881000</td>\n",
       "    </tr>\n",
       "    <tr>\n",
       "      <th>284</th>\n",
       "      <td>2018-11-28 04:00:00</td>\n",
       "      <td>93.34000000</td>\n",
       "      <td>95.34000000</td>\n",
       "      <td>91.00000000</td>\n",
       "      <td>92.66000000</td>\n",
       "      <td>15889.17210000</td>\n",
       "    </tr>\n",
       "    <tr>\n",
       "      <th>285</th>\n",
       "      <td>2018-11-28 05:00:00</td>\n",
       "      <td>92.52000000</td>\n",
       "      <td>93.55000000</td>\n",
       "      <td>91.01000000</td>\n",
       "      <td>91.53000000</td>\n",
       "      <td>5593.50623000</td>\n",
       "    </tr>\n",
       "  </tbody>\n",
       "</table>\n",
       "</div>"
      ],
      "text/plain": [
       "                    MTS          Open          High          Low        Close  \\\n",
       "281 2018-11-28 01:00:00  100.04000000  101.10000000  92.00000000  93.24000000   \n",
       "282 2018-11-28 02:00:00   93.24000000   97.00000000  92.39000000  94.10000000   \n",
       "283 2018-11-28 03:00:00   94.37000000   96.39000000  93.09000000  93.34000000   \n",
       "284 2018-11-28 04:00:00   93.34000000   95.34000000  91.00000000  92.66000000   \n",
       "285 2018-11-28 05:00:00   92.52000000   93.55000000  91.01000000  91.53000000   \n",
       "\n",
       "             Volume  \n",
       "281  42666.12259000  \n",
       "282  22141.80863000  \n",
       "283  13054.41881000  \n",
       "284  15889.17210000  \n",
       "285   5593.50623000  "
      ]
     },
     "execution_count": 20,
     "metadata": {},
     "output_type": "execute_result"
    }
   ],
   "source": [
    "df.drop(['MTS_close','a','b','c','d','e'], inplace=True, axis=1)\n",
    "df['MTS'] = pd.to_datetime(df['MTS'], unit='ms')\n",
    "df.tail()"
   ]
  },
  {
   "cell_type": "code",
   "execution_count": 21,
   "metadata": {
    "scrolled": false
   },
   "outputs": [
    {
     "data": {
      "text/html": [
       "<div>\n",
       "<style scoped>\n",
       "    .dataframe tbody tr th:only-of-type {\n",
       "        vertical-align: middle;\n",
       "    }\n",
       "\n",
       "    .dataframe tbody tr th {\n",
       "        vertical-align: top;\n",
       "    }\n",
       "\n",
       "    .dataframe thead th {\n",
       "        text-align: right;\n",
       "    }\n",
       "</style>\n",
       "<table border=\"1\" class=\"dataframe\">\n",
       "  <thead>\n",
       "    <tr style=\"text-align: right;\">\n",
       "      <th></th>\n",
       "      <th>Open</th>\n",
       "      <th>Close</th>\n",
       "      <th>High</th>\n",
       "      <th>Low</th>\n",
       "      <th>Volume</th>\n",
       "    </tr>\n",
       "    <tr>\n",
       "      <th>MTS</th>\n",
       "      <th></th>\n",
       "      <th></th>\n",
       "      <th></th>\n",
       "      <th></th>\n",
       "      <th></th>\n",
       "    </tr>\n",
       "  </thead>\n",
       "  <tbody>\n",
       "    <tr>\n",
       "      <th>2018-11-16 08:00:00</th>\n",
       "      <td>89.74000000</td>\n",
       "      <td>123.85000000</td>\n",
       "      <td>152.00000000</td>\n",
       "      <td>78.00000000</td>\n",
       "      <td>46140.64683000</td>\n",
       "    </tr>\n",
       "    <tr>\n",
       "      <th>2018-11-16 09:00:00</th>\n",
       "      <td>123.84000000</td>\n",
       "      <td>157.25000000</td>\n",
       "      <td>168.00000000</td>\n",
       "      <td>120.50000000</td>\n",
       "      <td>64086.19721000</td>\n",
       "    </tr>\n",
       "    <tr>\n",
       "      <th>2018-11-16 10:00:00</th>\n",
       "      <td>157.99000000</td>\n",
       "      <td>159.00000000</td>\n",
       "      <td>172.99000000</td>\n",
       "      <td>147.00000000</td>\n",
       "      <td>37605.13161000</td>\n",
       "    </tr>\n",
       "    <tr>\n",
       "      <th>2018-11-16 11:00:00</th>\n",
       "      <td>159.00000000</td>\n",
       "      <td>144.80000000</td>\n",
       "      <td>159.68000000</td>\n",
       "      <td>136.00000000</td>\n",
       "      <td>29032.53461000</td>\n",
       "    </tr>\n",
       "    <tr>\n",
       "      <th>2018-11-16 12:00:00</th>\n",
       "      <td>144.79000000</td>\n",
       "      <td>136.50000000</td>\n",
       "      <td>146.01000000</td>\n",
       "      <td>134.00000000</td>\n",
       "      <td>16072.82751000</td>\n",
       "    </tr>\n",
       "  </tbody>\n",
       "</table>\n",
       "</div>"
      ],
      "text/plain": [
       "                             Open         Close          High           Low  \\\n",
       "MTS                                                                           \n",
       "2018-11-16 08:00:00   89.74000000  123.85000000  152.00000000   78.00000000   \n",
       "2018-11-16 09:00:00  123.84000000  157.25000000  168.00000000  120.50000000   \n",
       "2018-11-16 10:00:00  157.99000000  159.00000000  172.99000000  147.00000000   \n",
       "2018-11-16 11:00:00  159.00000000  144.80000000  159.68000000  136.00000000   \n",
       "2018-11-16 12:00:00  144.79000000  136.50000000  146.01000000  134.00000000   \n",
       "\n",
       "                             Volume  \n",
       "MTS                                  \n",
       "2018-11-16 08:00:00  46140.64683000  \n",
       "2018-11-16 09:00:00  64086.19721000  \n",
       "2018-11-16 10:00:00  37605.13161000  \n",
       "2018-11-16 11:00:00  29032.53461000  \n",
       "2018-11-16 12:00:00  16072.82751000  "
      ]
     },
     "execution_count": 21,
     "metadata": {},
     "output_type": "execute_result"
    }
   ],
   "source": [
    "df.set_index('MTS', drop=True, inplace=True)\n",
    "df = df[['Open', 'Close', 'High', 'Low', 'Volume']]\n",
    "df.head()"
   ]
  },
  {
   "cell_type": "code",
   "execution_count": 22,
   "metadata": {},
   "outputs": [
    {
     "name": "stdout",
     "output_type": "stream",
     "text": [
      "<class 'pandas.core.frame.DataFrame'>\n",
      "DatetimeIndex: 286 entries, 2018-11-16 08:00:00 to 2018-11-28 05:00:00\n",
      "Data columns (total 5 columns):\n",
      "Open      286 non-null object\n",
      "Close     286 non-null object\n",
      "High      286 non-null object\n",
      "Low       286 non-null object\n",
      "Volume    286 non-null object\n",
      "dtypes: object(5)\n",
      "memory usage: 7.8+ KB\n"
     ]
    }
   ],
   "source": [
    "df.info()"
   ]
  },
  {
   "cell_type": "code",
   "execution_count": 23,
   "metadata": {},
   "outputs": [
    {
     "data": {
      "text/plain": [
       "MTS\n",
       "2018-11-28 01:00:00    93.24000000\n",
       "2018-11-28 02:00:00    94.10000000\n",
       "2018-11-28 03:00:00    93.34000000\n",
       "2018-11-28 04:00:00    92.66000000\n",
       "2018-11-28 05:00:00    91.53000000\n",
       "Name: Close, dtype: object"
      ]
     },
     "execution_count": 23,
     "metadata": {},
     "output_type": "execute_result"
    }
   ],
   "source": [
    "df['Close'].tail()"
   ]
  },
  {
   "cell_type": "code",
   "execution_count": null,
   "metadata": {
    "scrolled": false
   },
   "outputs": [],
   "source": []
  },
  {
   "cell_type": "code",
   "execution_count": null,
   "metadata": {},
   "outputs": [],
   "source": [
    "df['Close'].plot()"
   ]
  },
  {
   "cell_type": "code",
   "execution_count": null,
   "metadata": {},
   "outputs": [],
   "source": []
  }
 ],
 "metadata": {
  "kernelspec": {
   "display_name": "Python 3",
   "language": "python",
   "name": "python3"
  },
  "language_info": {
   "codemirror_mode": {
    "name": "ipython",
    "version": 3
   },
   "file_extension": ".py",
   "mimetype": "text/x-python",
   "name": "python",
   "nbconvert_exporter": "python",
   "pygments_lexer": "ipython3",
   "version": "3.7.2"
  }
 },
 "nbformat": 4,
 "nbformat_minor": 2
}
