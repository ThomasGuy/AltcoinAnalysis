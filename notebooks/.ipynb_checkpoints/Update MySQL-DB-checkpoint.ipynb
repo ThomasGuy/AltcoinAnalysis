{
 "cells": [
  {
   "cell_type": "code",
   "execution_count": 1,
   "metadata": {},
   "outputs": [],
   "source": [
    "import pandas as pd\n",
    "import matplotlib as plt\n",
    "%matplotlib inline\n",
    "from TickTocTest.ticktoctest.masterDB import mergeMaster, updateDB, engine_master, tables\n",
    "from TickTocTest.ticktoctest.tickToc import getDBdata, db_session\n",
    "from Altcoin.altcoin.coinData import CoinData\n",
    "from Altcoin.altcoin.getData import getData\n",
    "import requests, json\n",
    "from datetime import datetime, timedelta"
   ]
  },
  {
   "cell_type": "code",
   "execution_count": 2,
   "metadata": {},
   "outputs": [],
   "source": [
    "session = db_session()"
   ]
  },
  {
   "cell_type": "code",
   "execution_count": 5,
   "metadata": {},
   "outputs": [],
   "source": [
    "from TickTocTest.ticktoctest.models import *"
   ]
  },
  {
   "cell_type": "code",
   "execution_count": 34,
   "metadata": {},
   "outputs": [
    {
     "data": {
      "text/plain": [
       "datetime.datetime"
      ]
     },
     "execution_count": 34,
     "metadata": {},
     "output_type": "execute_result"
    }
   ],
   "source": [
    "q = session.query(Rlc.MTS).first()\n",
    "type(q.MTS) == datetime"
   ]
  },
  {
   "cell_type": "code",
   "execution_count": 23,
   "metadata": {},
   "outputs": [
    {
     "data": {
      "text/plain": [
       "{'ada': TickTocTest.ticktoctest.models.Ada,\n",
       " 'bch': TickTocTest.ticktoctest.models.Bch,\n",
       " 'xem': TickTocTest.ticktoctest.models.Xem,\n",
       " 'ven': TickTocTest.ticktoctest.models.Ven,\n",
       " 'bnb': TickTocTest.ticktoctest.models.Bnb,\n",
       " 'bcn': TickTocTest.ticktoctest.models.Bcn,\n",
       " 'icx': TickTocTest.ticktoctest.models.Icx,\n",
       " 'ont': TickTocTest.ticktoctest.models.Ont,\n",
       " 'zil': TickTocTest.ticktoctest.models.Zil,\n",
       " 'ae': TickTocTest.ticktoctest.models.Ae,\n",
       " 'zrx': TickTocTest.ticktoctest.models.Zrx,\n",
       " 'dcr': TickTocTest.ticktoctest.models.Dcr,\n",
       " 'lsk': TickTocTest.ticktoctest.models.Lsk,\n",
       " 'nano': TickTocTest.ticktoctest.models.Nano,\n",
       " 'steem': TickTocTest.ticktoctest.models.Steem,\n",
       " 'waves': TickTocTest.ticktoctest.models.Waves,\n",
       " 'xvg': TickTocTest.ticktoctest.models.Xvg,\n",
       " 'mana': TickTocTest.ticktoctest.models.Mana}"
      ]
     },
     "execution_count": 23,
     "metadata": {},
     "output_type": "execute_result"
    }
   ],
   "source": [
    "compare = {**CryptoCompare_Tables['15m'], **CryptoCompare_Tables['1h'], **CryptoCompare_Tables['3h']}\n",
    "compare"
   ]
  },
  {
   "cell_type": "code",
   "execution_count": 24,
   "metadata": {},
   "outputs": [
    {
     "ename": "AttributeError",
     "evalue": "type object 'Ada' has no attribute 'split'",
     "output_type": "error",
     "traceback": [
      "\u001b[1;31m---------------------------------------------------------------------------\u001b[0m",
      "\u001b[1;31mAttributeError\u001b[0m                            Traceback (most recent call last)",
      "\u001b[1;32m<ipython-input-24-cadde8c401ce>\u001b[0m in \u001b[0;36m<module>\u001b[1;34m()\u001b[0m\n\u001b[1;32m----> 1\u001b[1;33m \u001b[0mcompare\u001b[0m\u001b[1;33m[\u001b[0m\u001b[1;34m'ada'\u001b[0m\u001b[1;33m]\u001b[0m\u001b[1;33m.\u001b[0m\u001b[0msplit\u001b[0m\u001b[1;33m(\u001b[0m\u001b[1;34m'.'\u001b[0m\u001b[1;33m)\u001b[0m\u001b[1;33m\u001b[0m\u001b[0m\n\u001b[0m",
      "\u001b[1;31mAttributeError\u001b[0m: type object 'Ada' has no attribute 'split'"
     ]
    }
   ],
   "source": []
  },
  {
   "cell_type": "code",
   "execution_count": 31,
   "metadata": {},
   "outputs": [],
   "source": [
    "for table in all_DB_tables().values():\n",
    "    for row in session.query(table.MTS).all():\n",
    "       if type(row.MTS) != datetime:\n",
    "            print(table, type(row.MTS))\n",
    "    "
   ]
  },
  {
   "cell_type": "code",
   "execution_count": null,
   "metadata": {},
   "outputs": [],
   "source": []
  }
 ],
 "metadata": {
  "kernelspec": {
   "display_name": "Python 3",
   "language": "python",
   "name": "python3"
  },
  "language_info": {
   "codemirror_mode": {
    "name": "ipython",
    "version": 3
   },
   "file_extension": ".py",
   "mimetype": "text/x-python",
   "name": "python",
   "nbconvert_exporter": "python",
   "pygments_lexer": "ipython3",
   "version": "3.6.6"
  }
 },
 "nbformat": 4,
 "nbformat_minor": 2
}
