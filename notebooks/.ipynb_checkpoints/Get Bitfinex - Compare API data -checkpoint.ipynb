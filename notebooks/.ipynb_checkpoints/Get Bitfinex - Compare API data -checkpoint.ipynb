{
 "cells": [
  {
   "cell_type": "code",
   "execution_count": 1,
   "metadata": {},
   "outputs": [],
   "source": [
    "import pandas as  pd\n",
    "from sqlalchemy import create_engine\n",
    "import pymysql\n",
    "import matplotlib.pyplot as plt\n",
    "%matplotlib inline"
   ]
  },
  {
   "cell_type": "code",
   "execution_count": 2,
   "metadata": {},
   "outputs": [],
   "source": [
    "from TickTocTest.ticktoctest.utils import Return_API_response\n",
    "from TickTocTest.ticktoctest.models import Base, Ada, Btc, Neo, Mana, Bitfinex_DB_Tables, Compare_DB_Tables"
   ]
  },
  {
   "cell_type": "code",
   "execution_count": null,
   "metadata": {},
   "outputs": [],
   "source": [
    "bitfinexURL = 'https://api.bitfinex.com/v2/candles/trade:'\n",
    "compareURL = 'https://min-api.cryptocompare.com/data/histohour?'"
   ]
  },
  {
   "cell_type": "markdown",
   "metadata": {},
   "source": [
    "# BITFINEX: "
   ]
  },
  {
   "cell_type": "markdown",
   "metadata": {},
   "source": [
    "✌"
   ]
  },
  {
   "cell_type": "code",
   "execution_count": null,
   "metadata": {},
   "outputs": [],
   "source": [
    "resp = Return_API_response()"
   ]
  },
  {
   "cell_type": "code",
   "execution_count": null,
   "metadata": {
    "scrolled": true
   },
   "outputs": [],
   "source": [
    "data = resp.api_response(bitfinexURL + '6h:tBTCUSD/hist?limit=10')[::-1]\n",
    "df=  pd.DataFrame(data, columns=['MTS','Open','Close','High','Low','Volume'])\n",
    "df['MTS'] = pd.to_datetime(df['MTS'], unit='ms')\n",
    "df.set_index('MTS',drop=True,inplace=True)\n",
    "df"
   ]
  },
  {
   "cell_type": "code",
   "execution_count": null,
   "metadata": {},
   "outputs": [],
   "source": [
    "df.index[-1]"
   ]
  },
  {
   "cell_type": "code",
   "execution_count": null,
   "metadata": {},
   "outputs": [],
   "source": [
    "resp.close_session()\n",
    "resp2= Return_API_response()"
   ]
  },
  {
   "cell_type": "markdown",
   "metadata": {},
   "source": [
    "# CryptoCompare"
   ]
  },
  {
   "cell_type": "code",
   "execution_count": null,
   "metadata": {},
   "outputs": [],
   "source": [
    "data = resp2.api_response(compareURL+ 'fsym=BTC&tsym=USD&limit=10&aggregate=6&e=CCCAGG')\n",
    "compDF= pd.DataFrame.from_dict(data['Data'])\n",
    "compDF"
   ]
  },
  {
   "cell_type": "code",
   "execution_count": null,
   "metadata": {},
   "outputs": [],
   "source": [
    "compDF['MTS'] = pd.to_datetime(compDF['time'], unit='s')\n",
    "compDF['Volume'] = compDF['volumefrom'] + compDF['volumeto']\n",
    "compDF.drop(['time','volumefrom','volumeto'], inplace=True, axis=1)\n",
    "compDF.set_index('MTS', drop=True, inplace=True)\n",
    "compDF.rename(index=str, columns={'close': 'Close', 'open': 'Open', 'low': 'Low', 'high': 'High'}, inplace=True)\n",
    "compDF = compDF[['Open', 'Close', 'High', 'Low', 'Volume']]\n",
    "compDF"
   ]
  },
  {
   "cell_type": "code",
   "execution_count": null,
   "metadata": {},
   "outputs": [],
   "source": [
    "resp2.close_session()"
   ]
  },
  {
   "cell_type": "markdown",
   "metadata": {},
   "source": [
    "## Binance API"
   ]
  },
  {
   "cell_type": "markdown",
   "metadata": {},
   "source": [
    "Binnance API.  https://api.binance.com\n",
    " - All time and timestamp related fields are in milliseconds.\n",
    " - HTTP 4XX return codes are used for for malformed requests; the issue is on the sender's side.\n",
    " - HTTP 429 return code is used when breaking a request rate limit.\n",
    " - HTTP 418 return code is used when an IP has been auto-banned for continuing to send requests after receiving 429 codes.\n",
    " - HTTP 5XX return codes are used for internal errors; the issue is on Binance's side. It is important to NOT treat this as a failure operation; the execution status is UNKNOWN and could have been a success."
   ]
  },
  {
   "cell_type": "code",
   "execution_count": 23,
   "metadata": {},
   "outputs": [],
   "source": [
    "binance_URL  = 'https://api.binance.com/api/v1/klines?symbol=BTCUSDT&interval=1d'\n",
    "server_time  = 'https://api.binance.com/api/v1/time'\n",
    "# ticker_price = 'https://api.binance.com/api/v3/ticker/price?symbol=GVTUSDT'"
   ]
  },
  {
   "cell_type": "code",
   "execution_count": 24,
   "metadata": {},
   "outputs": [],
   "source": [
    "res= Return_API_response()"
   ]
  },
  {
   "cell_type": "code",
   "execution_count": 25,
   "metadata": {
    "scrolled": false
   },
   "outputs": [
    {
     "data": {
      "text/plain": [
       "{'serverTime': 1543382060179}"
      ]
     },
     "execution_count": 25,
     "metadata": {},
     "output_type": "execute_result"
    }
   ],
   "source": [
    "data = res.api_response(server_time)\n",
    "data"
   ]
  },
  {
   "cell_type": "code",
   "execution_count": 26,
   "metadata": {},
   "outputs": [
    {
     "data": {
      "text/plain": [
       "Timestamp('2018-11-28 05:14:20.179000')"
      ]
     },
     "execution_count": 26,
     "metadata": {},
     "output_type": "execute_result"
    }
   ],
   "source": [
    "BiTime = pd.to_datetime(data['serverTime'], unit='ms')\n",
    "BiTime"
   ]
  },
  {
   "cell_type": "code",
   "execution_count": 28,
   "metadata": {},
   "outputs": [],
   "source": [
    "BiData = res.api_response(binance_URL)\n",
    "# ticker = res.api_response(ticker_price)\n",
    "res.close_session()"
   ]
  },
  {
   "cell_type": "code",
   "execution_count": 30,
   "metadata": {},
   "outputs": [
    {
     "ename": "AttributeError",
     "evalue": "'list' object has no attribute 'info'",
     "output_type": "error",
     "traceback": [
      "\u001b[1;31m---------------------------------------------------------------------------\u001b[0m",
      "\u001b[1;31mAttributeError\u001b[0m                            Traceback (most recent call last)",
      "\u001b[1;32m<ipython-input-30-252e700002ce>\u001b[0m in \u001b[0;36m<module>\u001b[1;34m()\u001b[0m\n\u001b[1;32m----> 1\u001b[1;33m \u001b[0mBiData\u001b[0m\u001b[1;33m.\u001b[0m\u001b[0minfo\u001b[0m\u001b[1;33m(\u001b[0m\u001b[1;33m)\u001b[0m\u001b[1;33m\u001b[0m\u001b[0m\n\u001b[0m",
      "\u001b[1;31mAttributeError\u001b[0m: 'list' object has no attribute 'info'"
     ]
    }
   ],
   "source": [
    "BiData.info()"
   ]
  },
  {
   "cell_type": "code",
   "execution_count": 29,
   "metadata": {},
   "outputs": [
    {
     "data": {
      "text/plain": [
       "[1502928000000,\n",
       " '4261.48000000',\n",
       " '4485.39000000',\n",
       " '4200.74000000',\n",
       " '4285.08000000',\n",
       " '795.15037700',\n",
       " 1503014399999,\n",
       " '3454770.05073206',\n",
       " 3427,\n",
       " '616.24854100',\n",
       " '2678216.40060401',\n",
       " '8733.91139481']"
      ]
     },
     "execution_count": 29,
     "metadata": {},
     "output_type": "execute_result"
    }
   ],
   "source": [
    "BiData[0]"
   ]
  },
  {
   "cell_type": "code",
   "execution_count": 31,
   "metadata": {},
   "outputs": [
    {
     "data": {
      "text/html": [
       "<div>\n",
       "<style scoped>\n",
       "    .dataframe tbody tr th:only-of-type {\n",
       "        vertical-align: middle;\n",
       "    }\n",
       "\n",
       "    .dataframe tbody tr th {\n",
       "        vertical-align: top;\n",
       "    }\n",
       "\n",
       "    .dataframe thead th {\n",
       "        text-align: right;\n",
       "    }\n",
       "</style>\n",
       "<table border=\"1\" class=\"dataframe\">\n",
       "  <thead>\n",
       "    <tr style=\"text-align: right;\">\n",
       "      <th></th>\n",
       "      <th>MTS</th>\n",
       "      <th>Open</th>\n",
       "      <th>High</th>\n",
       "      <th>Low</th>\n",
       "      <th>Close</th>\n",
       "      <th>Volume</th>\n",
       "      <th>MTS_close</th>\n",
       "      <th>a</th>\n",
       "      <th>b</th>\n",
       "      <th>c</th>\n",
       "      <th>d</th>\n",
       "      <th>e</th>\n",
       "    </tr>\n",
       "  </thead>\n",
       "  <tbody>\n",
       "    <tr>\n",
       "      <th>464</th>\n",
       "      <td>1543017600000</td>\n",
       "      <td>4415.63000000</td>\n",
       "      <td>4527.00000000</td>\n",
       "      <td>3824.69000000</td>\n",
       "      <td>3932.44000000</td>\n",
       "      <td>61693.11100600</td>\n",
       "      <td>1543103999999</td>\n",
       "      <td>258702927.69916426</td>\n",
       "      <td>275070</td>\n",
       "      <td>30242.18919400</td>\n",
       "      <td>127231531.56615079</td>\n",
       "      <td>0</td>\n",
       "    </tr>\n",
       "    <tr>\n",
       "      <th>465</th>\n",
       "      <td>1543104000000</td>\n",
       "      <td>3933.68000000</td>\n",
       "      <td>4233.00000000</td>\n",
       "      <td>3652.66000000</td>\n",
       "      <td>4085.78000000</td>\n",
       "      <td>101693.97558800</td>\n",
       "      <td>1543190399999</td>\n",
       "      <td>398253568.52923843</td>\n",
       "      <td>428171</td>\n",
       "      <td>53212.17100000</td>\n",
       "      <td>208468641.38665483</td>\n",
       "      <td>0</td>\n",
       "    </tr>\n",
       "    <tr>\n",
       "      <th>466</th>\n",
       "      <td>1543190400000</td>\n",
       "      <td>4088.69000000</td>\n",
       "      <td>4206.00000000</td>\n",
       "      <td>3701.00000000</td>\n",
       "      <td>3862.20000000</td>\n",
       "      <td>94503.75076700</td>\n",
       "      <td>1543276799999</td>\n",
       "      <td>373225761.80740756</td>\n",
       "      <td>413329</td>\n",
       "      <td>48232.14340600</td>\n",
       "      <td>190642350.09140542</td>\n",
       "      <td>0</td>\n",
       "    </tr>\n",
       "    <tr>\n",
       "      <th>467</th>\n",
       "      <td>1543276800000</td>\n",
       "      <td>3864.45000000</td>\n",
       "      <td>3940.00000000</td>\n",
       "      <td>3689.12000000</td>\n",
       "      <td>3875.21000000</td>\n",
       "      <td>67480.60721200</td>\n",
       "      <td>1543363199999</td>\n",
       "      <td>257593168.12182525</td>\n",
       "      <td>288731</td>\n",
       "      <td>36322.28391600</td>\n",
       "      <td>138747058.92980628</td>\n",
       "      <td>0</td>\n",
       "    </tr>\n",
       "    <tr>\n",
       "      <th>468</th>\n",
       "      <td>1543363200000</td>\n",
       "      <td>3875.63000000</td>\n",
       "      <td>4150.00000000</td>\n",
       "      <td>3874.27000000</td>\n",
       "      <td>4104.54000000</td>\n",
       "      <td>18292.74813400</td>\n",
       "      <td>1543449599999</td>\n",
       "      <td>72745697.47816522</td>\n",
       "      <td>75518</td>\n",
       "      <td>9772.34370800</td>\n",
       "      <td>38845151.83647151</td>\n",
       "      <td>0</td>\n",
       "    </tr>\n",
       "  </tbody>\n",
       "</table>\n",
       "</div>"
      ],
      "text/plain": [
       "               MTS           Open           High            Low  \\\n",
       "464  1543017600000  4415.63000000  4527.00000000  3824.69000000   \n",
       "465  1543104000000  3933.68000000  4233.00000000  3652.66000000   \n",
       "466  1543190400000  4088.69000000  4206.00000000  3701.00000000   \n",
       "467  1543276800000  3864.45000000  3940.00000000  3689.12000000   \n",
       "468  1543363200000  3875.63000000  4150.00000000  3874.27000000   \n",
       "\n",
       "             Close           Volume      MTS_close                   a  \\\n",
       "464  3932.44000000   61693.11100600  1543103999999  258702927.69916426   \n",
       "465  4085.78000000  101693.97558800  1543190399999  398253568.52923843   \n",
       "466  3862.20000000   94503.75076700  1543276799999  373225761.80740756   \n",
       "467  3875.21000000   67480.60721200  1543363199999  257593168.12182525   \n",
       "468  4104.54000000   18292.74813400  1543449599999   72745697.47816522   \n",
       "\n",
       "          b               c                   d  e  \n",
       "464  275070  30242.18919400  127231531.56615079  0  \n",
       "465  428171  53212.17100000  208468641.38665483  0  \n",
       "466  413329  48232.14340600  190642350.09140542  0  \n",
       "467  288731  36322.28391600  138747058.92980628  0  \n",
       "468   75518   9772.34370800   38845151.83647151  0  "
      ]
     },
     "execution_count": 31,
     "metadata": {},
     "output_type": "execute_result"
    }
   ],
   "source": [
    "df = pd.DataFrame(BiData, columns=['MTS','Open','High','Low','Close','Volume', 'MTS_close', 'a', 'b', 'c', 'd','e'])\n",
    "df.tail()"
   ]
  },
  {
   "cell_type": "code",
   "execution_count": 32,
   "metadata": {},
   "outputs": [
    {
     "data": {
      "text/html": [
       "<div>\n",
       "<style scoped>\n",
       "    .dataframe tbody tr th:only-of-type {\n",
       "        vertical-align: middle;\n",
       "    }\n",
       "\n",
       "    .dataframe tbody tr th {\n",
       "        vertical-align: top;\n",
       "    }\n",
       "\n",
       "    .dataframe thead th {\n",
       "        text-align: right;\n",
       "    }\n",
       "</style>\n",
       "<table border=\"1\" class=\"dataframe\">\n",
       "  <thead>\n",
       "    <tr style=\"text-align: right;\">\n",
       "      <th></th>\n",
       "      <th>MTS</th>\n",
       "      <th>Open</th>\n",
       "      <th>High</th>\n",
       "      <th>Low</th>\n",
       "      <th>Close</th>\n",
       "      <th>Volume</th>\n",
       "    </tr>\n",
       "  </thead>\n",
       "  <tbody>\n",
       "    <tr>\n",
       "      <th>464</th>\n",
       "      <td>2018-11-24</td>\n",
       "      <td>4415.63000000</td>\n",
       "      <td>4527.00000000</td>\n",
       "      <td>3824.69000000</td>\n",
       "      <td>3932.44000000</td>\n",
       "      <td>61693.11100600</td>\n",
       "    </tr>\n",
       "    <tr>\n",
       "      <th>465</th>\n",
       "      <td>2018-11-25</td>\n",
       "      <td>3933.68000000</td>\n",
       "      <td>4233.00000000</td>\n",
       "      <td>3652.66000000</td>\n",
       "      <td>4085.78000000</td>\n",
       "      <td>101693.97558800</td>\n",
       "    </tr>\n",
       "    <tr>\n",
       "      <th>466</th>\n",
       "      <td>2018-11-26</td>\n",
       "      <td>4088.69000000</td>\n",
       "      <td>4206.00000000</td>\n",
       "      <td>3701.00000000</td>\n",
       "      <td>3862.20000000</td>\n",
       "      <td>94503.75076700</td>\n",
       "    </tr>\n",
       "    <tr>\n",
       "      <th>467</th>\n",
       "      <td>2018-11-27</td>\n",
       "      <td>3864.45000000</td>\n",
       "      <td>3940.00000000</td>\n",
       "      <td>3689.12000000</td>\n",
       "      <td>3875.21000000</td>\n",
       "      <td>67480.60721200</td>\n",
       "    </tr>\n",
       "    <tr>\n",
       "      <th>468</th>\n",
       "      <td>2018-11-28</td>\n",
       "      <td>3875.63000000</td>\n",
       "      <td>4150.00000000</td>\n",
       "      <td>3874.27000000</td>\n",
       "      <td>4104.54000000</td>\n",
       "      <td>18292.74813400</td>\n",
       "    </tr>\n",
       "  </tbody>\n",
       "</table>\n",
       "</div>"
      ],
      "text/plain": [
       "           MTS           Open           High            Low          Close  \\\n",
       "464 2018-11-24  4415.63000000  4527.00000000  3824.69000000  3932.44000000   \n",
       "465 2018-11-25  3933.68000000  4233.00000000  3652.66000000  4085.78000000   \n",
       "466 2018-11-26  4088.69000000  4206.00000000  3701.00000000  3862.20000000   \n",
       "467 2018-11-27  3864.45000000  3940.00000000  3689.12000000  3875.21000000   \n",
       "468 2018-11-28  3875.63000000  4150.00000000  3874.27000000  4104.54000000   \n",
       "\n",
       "              Volume  \n",
       "464   61693.11100600  \n",
       "465  101693.97558800  \n",
       "466   94503.75076700  \n",
       "467   67480.60721200  \n",
       "468   18292.74813400  "
      ]
     },
     "execution_count": 32,
     "metadata": {},
     "output_type": "execute_result"
    }
   ],
   "source": [
    "df.drop(['MTS_close','a','b','c','d','e'], inplace=True, axis=1)\n",
    "df['MTS'] = pd.to_datetime(df['MTS'], unit='ms')\n",
    "df.tail()"
   ]
  },
  {
   "cell_type": "code",
   "execution_count": 33,
   "metadata": {
    "scrolled": false
   },
   "outputs": [
    {
     "data": {
      "text/html": [
       "<div>\n",
       "<style scoped>\n",
       "    .dataframe tbody tr th:only-of-type {\n",
       "        vertical-align: middle;\n",
       "    }\n",
       "\n",
       "    .dataframe tbody tr th {\n",
       "        vertical-align: top;\n",
       "    }\n",
       "\n",
       "    .dataframe thead th {\n",
       "        text-align: right;\n",
       "    }\n",
       "</style>\n",
       "<table border=\"1\" class=\"dataframe\">\n",
       "  <thead>\n",
       "    <tr style=\"text-align: right;\">\n",
       "      <th></th>\n",
       "      <th>Open</th>\n",
       "      <th>Close</th>\n",
       "      <th>High</th>\n",
       "      <th>Low</th>\n",
       "      <th>Volume</th>\n",
       "    </tr>\n",
       "    <tr>\n",
       "      <th>MTS</th>\n",
       "      <th></th>\n",
       "      <th></th>\n",
       "      <th></th>\n",
       "      <th></th>\n",
       "      <th></th>\n",
       "    </tr>\n",
       "  </thead>\n",
       "  <tbody>\n",
       "    <tr>\n",
       "      <th>2017-08-17</th>\n",
       "      <td>4261.48000000</td>\n",
       "      <td>4285.08000000</td>\n",
       "      <td>4485.39000000</td>\n",
       "      <td>4200.74000000</td>\n",
       "      <td>795.15037700</td>\n",
       "    </tr>\n",
       "    <tr>\n",
       "      <th>2017-08-18</th>\n",
       "      <td>4285.08000000</td>\n",
       "      <td>4108.37000000</td>\n",
       "      <td>4371.52000000</td>\n",
       "      <td>3938.77000000</td>\n",
       "      <td>1199.88826400</td>\n",
       "    </tr>\n",
       "    <tr>\n",
       "      <th>2017-08-19</th>\n",
       "      <td>4108.37000000</td>\n",
       "      <td>4139.98000000</td>\n",
       "      <td>4184.69000000</td>\n",
       "      <td>3850.00000000</td>\n",
       "      <td>381.30976300</td>\n",
       "    </tr>\n",
       "    <tr>\n",
       "      <th>2017-08-20</th>\n",
       "      <td>4120.98000000</td>\n",
       "      <td>4086.29000000</td>\n",
       "      <td>4211.08000000</td>\n",
       "      <td>4032.62000000</td>\n",
       "      <td>467.08302200</td>\n",
       "    </tr>\n",
       "    <tr>\n",
       "      <th>2017-08-21</th>\n",
       "      <td>4069.13000000</td>\n",
       "      <td>4016.00000000</td>\n",
       "      <td>4119.62000000</td>\n",
       "      <td>3911.79000000</td>\n",
       "      <td>691.74306000</td>\n",
       "    </tr>\n",
       "  </tbody>\n",
       "</table>\n",
       "</div>"
      ],
      "text/plain": [
       "                     Open          Close           High            Low  \\\n",
       "MTS                                                                      \n",
       "2017-08-17  4261.48000000  4285.08000000  4485.39000000  4200.74000000   \n",
       "2017-08-18  4285.08000000  4108.37000000  4371.52000000  3938.77000000   \n",
       "2017-08-19  4108.37000000  4139.98000000  4184.69000000  3850.00000000   \n",
       "2017-08-20  4120.98000000  4086.29000000  4211.08000000  4032.62000000   \n",
       "2017-08-21  4069.13000000  4016.00000000  4119.62000000  3911.79000000   \n",
       "\n",
       "                   Volume  \n",
       "MTS                        \n",
       "2017-08-17   795.15037700  \n",
       "2017-08-18  1199.88826400  \n",
       "2017-08-19   381.30976300  \n",
       "2017-08-20   467.08302200  \n",
       "2017-08-21   691.74306000  "
      ]
     },
     "execution_count": 33,
     "metadata": {},
     "output_type": "execute_result"
    }
   ],
   "source": [
    "df.set_index('MTS', drop=True, inplace=True)\n",
    "df = df[['Open', 'Close', 'High', 'Low', 'Volume']]\n",
    "df.head()"
   ]
  },
  {
   "cell_type": "code",
   "execution_count": 34,
   "metadata": {},
   "outputs": [
    {
     "name": "stdout",
     "output_type": "stream",
     "text": [
      "<class 'pandas.core.frame.DataFrame'>\n",
      "DatetimeIndex: 469 entries, 2017-08-17 to 2018-11-28\n",
      "Data columns (total 5 columns):\n",
      "Open      469 non-null object\n",
      "Close     469 non-null object\n",
      "High      469 non-null object\n",
      "Low       469 non-null object\n",
      "Volume    469 non-null object\n",
      "dtypes: object(5)\n",
      "memory usage: 12.8+ KB\n"
     ]
    }
   ],
   "source": [
    "df.info()"
   ]
  },
  {
   "cell_type": "code",
   "execution_count": 35,
   "metadata": {},
   "outputs": [
    {
     "data": {
      "text/plain": [
       "MTS\n",
       "2018-11-24    3932.44000000\n",
       "2018-11-25    4085.78000000\n",
       "2018-11-26    3862.20000000\n",
       "2018-11-27    3875.21000000\n",
       "2018-11-28    4104.54000000\n",
       "Name: Close, dtype: object"
      ]
     },
     "execution_count": 35,
     "metadata": {},
     "output_type": "execute_result"
    }
   ],
   "source": [
    "df['Close'].tail()"
   ]
  },
  {
   "cell_type": "code",
   "execution_count": null,
   "metadata": {
    "scrolled": false
   },
   "outputs": [],
   "source": []
  },
  {
   "cell_type": "code",
   "execution_count": 37,
   "metadata": {},
   "outputs": [
    {
     "ename": "TypeError",
     "evalue": "Empty 'DataFrame': no numeric data to plot",
     "output_type": "error",
     "traceback": [
      "\u001b[1;31m---------------------------------------------------------------------------\u001b[0m",
      "\u001b[1;31mTypeError\u001b[0m                                 Traceback (most recent call last)",
      "\u001b[1;32m<ipython-input-37-94275b39d407>\u001b[0m in \u001b[0;36m<module>\u001b[1;34m()\u001b[0m\n\u001b[1;32m----> 1\u001b[1;33m \u001b[0mdf\u001b[0m\u001b[1;33m.\u001b[0m\u001b[0mdrop\u001b[0m\u001b[1;33m(\u001b[0m\u001b[1;33m[\u001b[0m\u001b[1;34m'Volume'\u001b[0m\u001b[1;33m]\u001b[0m\u001b[1;33m,\u001b[0m \u001b[0maxis\u001b[0m\u001b[1;33m=\u001b[0m\u001b[1;36m1\u001b[0m\u001b[1;33m)\u001b[0m\u001b[1;33m.\u001b[0m\u001b[0mplot\u001b[0m\u001b[1;33m(\u001b[0m\u001b[1;33m)\u001b[0m\u001b[1;33m\u001b[0m\u001b[0m\n\u001b[0m",
      "\u001b[1;32mc:\\users\\twguy\\mypython\\altcoin\\myenv\\lib\\site-packages\\pandas\\plotting\\_core.py\u001b[0m in \u001b[0;36m__call__\u001b[1;34m(self, x, y, kind, ax, subplots, sharex, sharey, layout, figsize, use_index, title, grid, legend, style, logx, logy, loglog, xticks, yticks, xlim, ylim, rot, fontsize, colormap, table, yerr, xerr, secondary_y, sort_columns, **kwds)\u001b[0m\n\u001b[0;32m   2939\u001b[0m                           \u001b[0mfontsize\u001b[0m\u001b[1;33m=\u001b[0m\u001b[0mfontsize\u001b[0m\u001b[1;33m,\u001b[0m \u001b[0mcolormap\u001b[0m\u001b[1;33m=\u001b[0m\u001b[0mcolormap\u001b[0m\u001b[1;33m,\u001b[0m \u001b[0mtable\u001b[0m\u001b[1;33m=\u001b[0m\u001b[0mtable\u001b[0m\u001b[1;33m,\u001b[0m\u001b[1;33m\u001b[0m\u001b[0m\n\u001b[0;32m   2940\u001b[0m                           \u001b[0myerr\u001b[0m\u001b[1;33m=\u001b[0m\u001b[0myerr\u001b[0m\u001b[1;33m,\u001b[0m \u001b[0mxerr\u001b[0m\u001b[1;33m=\u001b[0m\u001b[0mxerr\u001b[0m\u001b[1;33m,\u001b[0m \u001b[0msecondary_y\u001b[0m\u001b[1;33m=\u001b[0m\u001b[0msecondary_y\u001b[0m\u001b[1;33m,\u001b[0m\u001b[1;33m\u001b[0m\u001b[0m\n\u001b[1;32m-> 2941\u001b[1;33m                           sort_columns=sort_columns, **kwds)\n\u001b[0m\u001b[0;32m   2942\u001b[0m     \u001b[0m__call__\u001b[0m\u001b[1;33m.\u001b[0m\u001b[0m__doc__\u001b[0m \u001b[1;33m=\u001b[0m \u001b[0mplot_frame\u001b[0m\u001b[1;33m.\u001b[0m\u001b[0m__doc__\u001b[0m\u001b[1;33m\u001b[0m\u001b[0m\n\u001b[0;32m   2943\u001b[0m \u001b[1;33m\u001b[0m\u001b[0m\n",
      "\u001b[1;32mc:\\users\\twguy\\mypython\\altcoin\\myenv\\lib\\site-packages\\pandas\\plotting\\_core.py\u001b[0m in \u001b[0;36mplot_frame\u001b[1;34m(data, x, y, kind, ax, subplots, sharex, sharey, layout, figsize, use_index, title, grid, legend, style, logx, logy, loglog, xticks, yticks, xlim, ylim, rot, fontsize, colormap, table, yerr, xerr, secondary_y, sort_columns, **kwds)\u001b[0m\n\u001b[0;32m   1975\u001b[0m                  \u001b[0myerr\u001b[0m\u001b[1;33m=\u001b[0m\u001b[0myerr\u001b[0m\u001b[1;33m,\u001b[0m \u001b[0mxerr\u001b[0m\u001b[1;33m=\u001b[0m\u001b[0mxerr\u001b[0m\u001b[1;33m,\u001b[0m\u001b[1;33m\u001b[0m\u001b[0m\n\u001b[0;32m   1976\u001b[0m                  \u001b[0msecondary_y\u001b[0m\u001b[1;33m=\u001b[0m\u001b[0msecondary_y\u001b[0m\u001b[1;33m,\u001b[0m \u001b[0msort_columns\u001b[0m\u001b[1;33m=\u001b[0m\u001b[0msort_columns\u001b[0m\u001b[1;33m,\u001b[0m\u001b[1;33m\u001b[0m\u001b[0m\n\u001b[1;32m-> 1977\u001b[1;33m                  **kwds)\n\u001b[0m\u001b[0;32m   1978\u001b[0m \u001b[1;33m\u001b[0m\u001b[0m\n\u001b[0;32m   1979\u001b[0m \u001b[1;33m\u001b[0m\u001b[0m\n",
      "\u001b[1;32mc:\\users\\twguy\\mypython\\altcoin\\myenv\\lib\\site-packages\\pandas\\plotting\\_core.py\u001b[0m in \u001b[0;36m_plot\u001b[1;34m(data, x, y, subplots, ax, kind, **kwds)\u001b[0m\n\u001b[0;32m   1802\u001b[0m         \u001b[0mplot_obj\u001b[0m \u001b[1;33m=\u001b[0m \u001b[0mklass\u001b[0m\u001b[1;33m(\u001b[0m\u001b[0mdata\u001b[0m\u001b[1;33m,\u001b[0m \u001b[0msubplots\u001b[0m\u001b[1;33m=\u001b[0m\u001b[0msubplots\u001b[0m\u001b[1;33m,\u001b[0m \u001b[0max\u001b[0m\u001b[1;33m=\u001b[0m\u001b[0max\u001b[0m\u001b[1;33m,\u001b[0m \u001b[0mkind\u001b[0m\u001b[1;33m=\u001b[0m\u001b[0mkind\u001b[0m\u001b[1;33m,\u001b[0m \u001b[1;33m**\u001b[0m\u001b[0mkwds\u001b[0m\u001b[1;33m)\u001b[0m\u001b[1;33m\u001b[0m\u001b[0m\n\u001b[0;32m   1803\u001b[0m \u001b[1;33m\u001b[0m\u001b[0m\n\u001b[1;32m-> 1804\u001b[1;33m     \u001b[0mplot_obj\u001b[0m\u001b[1;33m.\u001b[0m\u001b[0mgenerate\u001b[0m\u001b[1;33m(\u001b[0m\u001b[1;33m)\u001b[0m\u001b[1;33m\u001b[0m\u001b[0m\n\u001b[0m\u001b[0;32m   1805\u001b[0m     \u001b[0mplot_obj\u001b[0m\u001b[1;33m.\u001b[0m\u001b[0mdraw\u001b[0m\u001b[1;33m(\u001b[0m\u001b[1;33m)\u001b[0m\u001b[1;33m\u001b[0m\u001b[0m\n\u001b[0;32m   1806\u001b[0m     \u001b[1;32mreturn\u001b[0m \u001b[0mplot_obj\u001b[0m\u001b[1;33m.\u001b[0m\u001b[0mresult\u001b[0m\u001b[1;33m\u001b[0m\u001b[0m\n",
      "\u001b[1;32mc:\\users\\twguy\\mypython\\altcoin\\myenv\\lib\\site-packages\\pandas\\plotting\\_core.py\u001b[0m in \u001b[0;36mgenerate\u001b[1;34m(self)\u001b[0m\n\u001b[0;32m    256\u001b[0m     \u001b[1;32mdef\u001b[0m \u001b[0mgenerate\u001b[0m\u001b[1;33m(\u001b[0m\u001b[0mself\u001b[0m\u001b[1;33m)\u001b[0m\u001b[1;33m:\u001b[0m\u001b[1;33m\u001b[0m\u001b[0m\n\u001b[0;32m    257\u001b[0m         \u001b[0mself\u001b[0m\u001b[1;33m.\u001b[0m\u001b[0m_args_adjust\u001b[0m\u001b[1;33m(\u001b[0m\u001b[1;33m)\u001b[0m\u001b[1;33m\u001b[0m\u001b[0m\n\u001b[1;32m--> 258\u001b[1;33m         \u001b[0mself\u001b[0m\u001b[1;33m.\u001b[0m\u001b[0m_compute_plot_data\u001b[0m\u001b[1;33m(\u001b[0m\u001b[1;33m)\u001b[0m\u001b[1;33m\u001b[0m\u001b[0m\n\u001b[0m\u001b[0;32m    259\u001b[0m         \u001b[0mself\u001b[0m\u001b[1;33m.\u001b[0m\u001b[0m_setup_subplots\u001b[0m\u001b[1;33m(\u001b[0m\u001b[1;33m)\u001b[0m\u001b[1;33m\u001b[0m\u001b[0m\n\u001b[0;32m    260\u001b[0m         \u001b[0mself\u001b[0m\u001b[1;33m.\u001b[0m\u001b[0m_make_plot\u001b[0m\u001b[1;33m(\u001b[0m\u001b[1;33m)\u001b[0m\u001b[1;33m\u001b[0m\u001b[0m\n",
      "\u001b[1;32mc:\\users\\twguy\\mypython\\altcoin\\myenv\\lib\\site-packages\\pandas\\plotting\\_core.py\u001b[0m in \u001b[0;36m_compute_plot_data\u001b[1;34m(self)\u001b[0m\n\u001b[0;32m    371\u001b[0m         \u001b[1;32mif\u001b[0m \u001b[0mis_empty\u001b[0m\u001b[1;33m:\u001b[0m\u001b[1;33m\u001b[0m\u001b[0m\n\u001b[0;32m    372\u001b[0m             raise TypeError('Empty {0!r}: no numeric data to '\n\u001b[1;32m--> 373\u001b[1;33m                             'plot'.format(numeric_data.__class__.__name__))\n\u001b[0m\u001b[0;32m    374\u001b[0m \u001b[1;33m\u001b[0m\u001b[0m\n\u001b[0;32m    375\u001b[0m         \u001b[0mself\u001b[0m\u001b[1;33m.\u001b[0m\u001b[0mdata\u001b[0m \u001b[1;33m=\u001b[0m \u001b[0mnumeric_data\u001b[0m\u001b[1;33m\u001b[0m\u001b[0m\n",
      "\u001b[1;31mTypeError\u001b[0m: Empty 'DataFrame': no numeric data to plot"
     ]
    }
   ],
   "source": [
    "df.drop(['Volume'], axis=1).plot()"
   ]
  },
  {
   "cell_type": "code",
   "execution_count": null,
   "metadata": {},
   "outputs": [],
   "source": []
  }
 ],
 "metadata": {
  "kernelspec": {
   "display_name": "Python 3",
   "language": "python",
   "name": "python3"
  },
  "language_info": {
   "codemirror_mode": {
    "name": "ipython",
    "version": 3
   },
   "file_extension": ".py",
   "mimetype": "text/x-python",
   "name": "python",
   "nbconvert_exporter": "python",
   "pygments_lexer": "ipython3",
   "version": "3.6.6"
  }
 },
 "nbformat": 4,
 "nbformat_minor": 2
}
