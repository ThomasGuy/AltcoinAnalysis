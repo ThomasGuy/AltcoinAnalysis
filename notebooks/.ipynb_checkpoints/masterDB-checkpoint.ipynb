{
 "cells": [
  {
   "cell_type": "code",
   "execution_count": 1,
   "metadata": {},
   "outputs": [],
   "source": [
    "import pandas as pd\n",
    "import matplotlib as plt\n",
    "%matplotlib inline\n",
    "from TickTocTest.ticktoctest.masterDB import mergeMaster, updateDB, engine_master, tables\n",
    "from TickTocTest.ticktoctest.tickToc import getDBdata, db_session\n",
    "from Altcoin.altcoin.coinData import CoinData\n",
    "from Altcoin.altcoin.getData import getData\n",
    "import requests, json\n",
    "from datetime import datetime, timedelta"
   ]
  },
  {
   "cell_type": "code",
   "execution_count": 2,
   "metadata": {},
   "outputs": [
    {
     "data": {
      "text/plain": [
       "(datetime.datetime(2018, 12, 1, 0, 0), datetime.datetime(2018, 12, 2, 14, 0))"
      ]
     },
     "execution_count": 2,
     "metadata": {},
     "output_type": "execute_result"
    }
   ],
   "source": [
    "start = datetime.strptime('2018-12-01 00:00:00', '%Y-%m-%d %H:%M:%S')\n",
    "finish = datetime.strptime('2018-12-02 14:00:00', '%Y-%m-%d %H:%M:%S')\n",
    "start, finish"
   ]
  },
  {
   "cell_type": "code",
   "execution_count": 3,
   "metadata": {},
   "outputs": [],
   "source": [
    "# starts = str(int(start.timestamp())*1000)\n",
    "# finishs = str(int(finish.timestamp())*1000)\n",
    "# starts, finishs\n"
   ]
  },
  {
   "cell_type": "markdown",
   "metadata": {},
   "source": [
    "Couldn't get bitfinex endpoint to work with ?start=starts?end=finishs. So I grabbed a ?limit=1000 and cropped it"
   ]
  },
  {
   "cell_type": "code",
   "execution_count": 4,
   "metadata": {},
   "outputs": [],
   "source": [
    "# url = f'https://api.bitfinex.com/v2/candles/trade:15m:t{sym}USD/hist?limit=1000'\n"
   ]
  },
  {
   "cell_type": "markdown",
   "metadata": {},
   "source": [
    "# OOPS\n",
    "This worked fine for 'OMG' but then put the 'OMG' data into 'trx' table. So now we need to delete some\n",
    "rows from 'trx' table\n",
    "\n",
    "#### The Amswer is put the url (line above) inthe for loop below ... Doh\n"
   ]
  },
  {
   "cell_type": "code",
   "execution_count": 5,
   "metadata": {},
   "outputs": [],
   "source": [
    "# with engine_master.begin() as conn:\n",
    "#     for sym in ['OMG', 'TRX']:\n",
    "#         res = requests.get(url)\n",
    "#         data = res.json()\n",
    "#         df = pd.DataFrame(data, columns=['MTS', 'Open','Close','High','Low','Volume'])\n",
    "#         df.set_index('MTS', drop=True, inplace=True)\n",
    "#         df.sort_values(by=['MTS'], inplace=True)\n",
    "#         df.index = pd.to_datetime(df.index, unit='ms')\n",
    "#         DF = df.loc['2018-12-01': '2018-12-02 14:0:0'].copy()\n",
    "        \n",
    "#         updateDB(DF, tables[sym.lower()], conn)"
   ]
  },
  {
   "cell_type": "code",
   "execution_count": null,
   "metadata": {},
   "outputs": [],
   "source": [
    "# Session = db_session()\n",
    "# session= Session()\n",
    "# trx = CoinData('trx', getDBdata, session)\n",
    "# trx.plot('2018-11-01')"
   ]
  },
  {
   "cell_type": "markdown",
   "metadata": {},
   "source": [
    "### Delete some rows"
   ]
  },
  {
   "cell_type": "code",
   "execution_count": null,
   "metadata": {},
   "outputs": [],
   "source": [
    "# query = session.query(table.MTS)\n",
    "# query = query.filter((table.MTS >= start) & (table.MTS <= finish))"
   ]
  },
  {
   "cell_type": "code",
   "execution_count": null,
   "metadata": {},
   "outputs": [],
   "source": [
    "# query.delete()\n",
    "# session.commit()"
   ]
  },
  {
   "cell_type": "code",
   "execution_count": null,
   "metadata": {},
   "outputs": [],
   "source": [
    "# trx.plot('2018-11-01')"
   ]
  },
  {
   "cell_type": "code",
   "execution_count": null,
   "metadata": {},
   "outputs": [],
   "source": [
    "# session.close()"
   ]
  },
  {
   "cell_type": "markdown",
   "metadata": {},
   "source": [
    "### Get Bitfinex data"
   ]
  },
  {
   "cell_type": "code",
   "execution_count": null,
   "metadata": {},
   "outputs": [],
   "source": [
    "# with engine_master.begin() as conn:\n",
    "url = f'https://api.bitfinex.com/v2/candles/trade:15m:tTRXUSD/hist?limit=1000'\n",
    "res = requests.get(url)\n",
    "data = res.json()\n",
    "df = pd.DataFrame(data, columns=['MTS', 'Open','Close','High','Low','Volume'])\n",
    "df.set_index('MTS', drop=True, inplace=True)\n",
    "df.sort_values(by=['MTS'], inplace=True)\n",
    "df.index = pd.to_datetime(df.index, unit='ms')\n",
    "DF = df.loc['2018-12-01': '2018-12-02 14:00:00'].copy()\n",
    "\n",
    "#     updateDB(DF, tables[sym.lower()], conn)\n",
    "DF.head(20)"
   ]
  },
  {
   "cell_type": "markdown",
   "metadata": {},
   "source": [
    "### Get Compare data"
   ]
  },
  {
   "cell_type": "code",
   "execution_count": 19,
   "metadata": {},
   "outputs": [],
   "source": [
    "compare_url = 'https://min-api.cryptocompare.com/data/histohour?fsym=BCH&tsym=USD&limit=2000&aggregate=1&e=CCCAGG'\n",
    "res = requests.get(compare_url)\n",
    "data = res.json()\n",
    "if data['Type'] >= 100:\n",
    "    DF = pd.DataFrame(data['Data'][1:])\n",
    "    DF['MTS'] = pd.to_datetime(DF['time'], unit='s')\n",
    "    DF['Volume'] = DF['volumefrom'] + DF['volumeto']\n",
    "    DF.drop(['time', 'volumefrom', 'volumeto'], inplace=True, axis=1)\n",
    "#     DF.set_index('MTS', drop=True, inplace=True)\n",
    "    DF.rename(columns={'close': 'Close', 'open': 'Open', 'low': 'Low', 'high': 'High'},\n",
    "              inplace=True)\n",
    "    DF = DF[['MTS', 'Open', 'Close', 'High', 'Low', 'Volume']]\n",
    "else: \n",
    "    print(data['Type'])"
   ]
  },
  {
   "cell_type": "code",
   "execution_count": 20,
   "metadata": {},
   "outputs": [
    {
     "name": "stdout",
     "output_type": "stream",
     "text": [
      "<class 'pandas.core.frame.DataFrame'>\n",
      "RangeIndex: 2000 entries, 0 to 1999\n",
      "Data columns (total 6 columns):\n",
      "MTS       2000 non-null datetime64[ns]\n",
      "Open      2000 non-null float64\n",
      "Close     2000 non-null float64\n",
      "High      2000 non-null float64\n",
      "Low       2000 non-null float64\n",
      "Volume    2000 non-null float64\n",
      "dtypes: datetime64[ns](1), float64(5)\n",
      "memory usage: 93.8 KB\n"
     ]
    }
   ],
   "source": [
    "DF.info()"
   ]
  },
  {
   "cell_type": "code",
   "execution_count": 21,
   "metadata": {},
   "outputs": [],
   "source": [
    "pd.to_datetime(DF['MTS'], format='%Y-%m-%d %H:%M')\n",
    "DF.set_index('MTS', drop=True, inplace=True)\n"
   ]
  },
  {
   "cell_type": "code",
   "execution_count": 22,
   "metadata": {},
   "outputs": [
    {
     "data": {
      "text/html": [
       "<div>\n",
       "<style scoped>\n",
       "    .dataframe tbody tr th:only-of-type {\n",
       "        vertical-align: middle;\n",
       "    }\n",
       "\n",
       "    .dataframe tbody tr th {\n",
       "        vertical-align: top;\n",
       "    }\n",
       "\n",
       "    .dataframe thead th {\n",
       "        text-align: right;\n",
       "    }\n",
       "</style>\n",
       "<table border=\"1\" class=\"dataframe\">\n",
       "  <thead>\n",
       "    <tr style=\"text-align: right;\">\n",
       "      <th></th>\n",
       "      <th>Open</th>\n",
       "      <th>Close</th>\n",
       "      <th>High</th>\n",
       "      <th>Low</th>\n",
       "      <th>Volume</th>\n",
       "    </tr>\n",
       "    <tr>\n",
       "      <th>MTS</th>\n",
       "      <th></th>\n",
       "      <th></th>\n",
       "      <th></th>\n",
       "      <th></th>\n",
       "      <th></th>\n",
       "    </tr>\n",
       "  </thead>\n",
       "  <tbody>\n",
       "    <tr>\n",
       "      <th>2018-11-14 23:00:00</th>\n",
       "      <td>434.74</td>\n",
       "      <td>444.16</td>\n",
       "      <td>445.91</td>\n",
       "      <td>433.48</td>\n",
       "      <td>2965323.72</td>\n",
       "    </tr>\n",
       "    <tr>\n",
       "      <th>2018-11-15 00:00:00</th>\n",
       "      <td>444.07</td>\n",
       "      <td>441.86</td>\n",
       "      <td>447.35</td>\n",
       "      <td>439.41</td>\n",
       "      <td>1404229.10</td>\n",
       "    </tr>\n",
       "    <tr>\n",
       "      <th>2018-11-15 01:00:00</th>\n",
       "      <td>441.86</td>\n",
       "      <td>437.60</td>\n",
       "      <td>441.97</td>\n",
       "      <td>435.57</td>\n",
       "      <td>1285510.77</td>\n",
       "    </tr>\n",
       "    <tr>\n",
       "      <th>2018-11-15 02:00:00</th>\n",
       "      <td>437.60</td>\n",
       "      <td>421.98</td>\n",
       "      <td>438.07</td>\n",
       "      <td>417.09</td>\n",
       "      <td>4497359.48</td>\n",
       "    </tr>\n",
       "    <tr>\n",
       "      <th>2018-11-15 03:00:00</th>\n",
       "      <td>421.98</td>\n",
       "      <td>430.89</td>\n",
       "      <td>432.79</td>\n",
       "      <td>421.91</td>\n",
       "      <td>2242110.17</td>\n",
       "    </tr>\n",
       "  </tbody>\n",
       "</table>\n",
       "</div>"
      ],
      "text/plain": [
       "                       Open   Close    High     Low      Volume\n",
       "MTS                                                            \n",
       "2018-11-14 23:00:00  434.74  444.16  445.91  433.48  2965323.72\n",
       "2018-11-15 00:00:00  444.07  441.86  447.35  439.41  1404229.10\n",
       "2018-11-15 01:00:00  441.86  437.60  441.97  435.57  1285510.77\n",
       "2018-11-15 02:00:00  437.60  421.98  438.07  417.09  4497359.48\n",
       "2018-11-15 03:00:00  421.98  430.89  432.79  421.91  2242110.17"
      ]
     },
     "execution_count": 22,
     "metadata": {},
     "output_type": "execute_result"
    }
   ],
   "source": [
    "df = DF.loc['2018-11-14 23:00:00':].copy()\n",
    "df.head()"
   ]
  },
  {
   "cell_type": "code",
   "execution_count": null,
   "metadata": {},
   "outputs": [],
   "source": [
    "df.info()"
   ]
  },
  {
   "cell_type": "code",
   "execution_count": null,
   "metadata": {},
   "outputs": [],
   "source": [
    "from TickTocTest.ticktoctest.tickToc import getDF\n",
    "db_name = f'sqlite:///c:\\\\data\\\\sqlite\\\\db\\\\master_db.db'\n",
    "Session = db_session(db_name)\n",
    "session = Session()"
   ]
  },
  {
   "cell_type": "code",
   "execution_count": null,
   "metadata": {},
   "outputs": [],
   "source": [
    "# Combine Altcoin with mysql ticktoc15m.db\n",
    "for coin in ['BCHUSD']:\n",
    "    sym = coin[:-3]\n",
    "    df1D = getData(sym, '1D')\n",
    "    df6 = getData(sym, '6h')\n",
    "    df1 = getData(sym, '1h')\n",
    "    db_df = getDF(sym.lower(), session)"
   ]
  },
  {
   "cell_type": "code",
   "execution_count": null,
   "metadata": {},
   "outputs": [],
   "source": [
    "df.info()"
   ]
  },
  {
   "cell_type": "code",
   "execution_count": null,
   "metadata": {},
   "outputs": [],
   "source": [
    "pd.to_datetime(df['MTS'], format='%Y-%m-%d %H:%M:%S')"
   ]
  },
  {
   "cell_type": "code",
   "execution_count": null,
   "metadata": {},
   "outputs": [],
   "source": [
    "DF = pd.concat([df1D, df6, df1, db_df, df])\n",
    "DF.drop_duplicates(inplace=True)\n",
    "DF = DF.groupby('MTS')['Open', 'Close', 'High', 'Low', 'Volume'].mean()\n",
    "DF.sort_values(by=['MTS'])\n",
    "DF.reset_index()"
   ]
  },
  {
   "cell_type": "code",
   "execution_count": null,
   "metadata": {},
   "outputs": [],
   "source": []
  }
 ],
 "metadata": {
  "kernelspec": {
   "display_name": "Python 3",
   "language": "python",
   "name": "python3"
  },
  "language_info": {
   "codemirror_mode": {
    "name": "ipython",
    "version": 3
   },
   "file_extension": ".py",
   "mimetype": "text/x-python",
   "name": "python",
   "nbconvert_exporter": "python",
   "pygments_lexer": "ipython3",
   "version": "3.6.6"
  }
 },
 "nbformat": 4,
 "nbformat_minor": 2
}
