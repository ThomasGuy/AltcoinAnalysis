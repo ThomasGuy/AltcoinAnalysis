{
 "cells": [
  {
   "cell_type": "code",
   "execution_count": 38,
   "metadata": {},
   "outputs": [],
   "source": [
    "from TickTocTest.ticktoctest.tickToc import getDBdata\n",
    "from Altcoin.altcoin.coinData import CoinData\n",
    "from datetime import timedelta, datetime\n",
    "import math"
   ]
  },
  {
   "cell_type": "code",
   "execution_count": 39,
   "metadata": {},
   "outputs": [],
   "source": [
    "btc = CoinData('btc', getDBdata)"
   ]
  },
  {
   "cell_type": "code",
   "execution_count": 40,
   "metadata": {},
   "outputs": [],
   "source": [
    "dataf, cross  = CoinData.portfolio['btc'].getCoinData()"
   ]
  },
  {
   "cell_type": "code",
   "execution_count": 41,
   "metadata": {},
   "outputs": [
    {
     "data": {
      "text/html": [
       "<div>\n",
       "<style scoped>\n",
       "    .dataframe tbody tr th:only-of-type {\n",
       "        vertical-align: middle;\n",
       "    }\n",
       "\n",
       "    .dataframe tbody tr th {\n",
       "        vertical-align: top;\n",
       "    }\n",
       "\n",
       "    .dataframe thead th {\n",
       "        text-align: right;\n",
       "    }\n",
       "</style>\n",
       "<table border=\"1\" class=\"dataframe\">\n",
       "  <thead>\n",
       "    <tr style=\"text-align: right;\">\n",
       "      <th></th>\n",
       "      <th>open</th>\n",
       "      <th>close</th>\n",
       "      <th>high</th>\n",
       "      <th>low</th>\n",
       "      <th>volume</th>\n",
       "      <th>sewma</th>\n",
       "      <th>bma</th>\n",
       "      <th>lma</th>\n",
       "    </tr>\n",
       "    <tr>\n",
       "      <th>MTS</th>\n",
       "      <th></th>\n",
       "      <th></th>\n",
       "      <th></th>\n",
       "      <th></th>\n",
       "      <th></th>\n",
       "      <th></th>\n",
       "      <th></th>\n",
       "      <th></th>\n",
       "    </tr>\n",
       "  </thead>\n",
       "  <tbody>\n",
       "    <tr>\n",
       "      <th>2018-10-19 14:30:00</th>\n",
       "      <td>6587.100000</td>\n",
       "      <td>6566.100000</td>\n",
       "      <td>6610.7</td>\n",
       "      <td>6548.3</td>\n",
       "      <td>39.492365</td>\n",
       "      <td>6646.346737</td>\n",
       "      <td>6590.343836</td>\n",
       "      <td>6559.011543</td>\n",
       "    </tr>\n",
       "    <tr>\n",
       "      <th>2018-10-19 20:30:00</th>\n",
       "      <td>6565.700000</td>\n",
       "      <td>6523.207948</td>\n",
       "      <td>6593.2</td>\n",
       "      <td>6521.0</td>\n",
       "      <td>68.739587</td>\n",
       "      <td>6623.957866</td>\n",
       "      <td>6598.166352</td>\n",
       "      <td>6557.799489</td>\n",
       "    </tr>\n",
       "    <tr>\n",
       "      <th>2018-10-20 02:30:00</th>\n",
       "      <td>6519.951522</td>\n",
       "      <td>6538.600000</td>\n",
       "      <td>6548.4</td>\n",
       "      <td>6511.0</td>\n",
       "      <td>38.898320</td>\n",
       "      <td>6608.438254</td>\n",
       "      <td>6606.629315</td>\n",
       "      <td>6557.561651</td>\n",
       "    </tr>\n",
       "    <tr>\n",
       "      <th>2018-10-20 08:30:00</th>\n",
       "      <td>6538.700000</td>\n",
       "      <td>6576.900000</td>\n",
       "      <td>6590.6</td>\n",
       "      <td>6533.7</td>\n",
       "      <td>15.717216</td>\n",
       "      <td>6602.704026</td>\n",
       "      <td>6616.444130</td>\n",
       "      <td>6557.505287</td>\n",
       "    </tr>\n",
       "    <tr>\n",
       "      <th>2018-10-20 14:30:00</th>\n",
       "      <td>6575.900000</td>\n",
       "      <td>6594.000000</td>\n",
       "      <td>6606.0</td>\n",
       "      <td>6570.8</td>\n",
       "      <td>10.105902</td>\n",
       "      <td>6601.121476</td>\n",
       "      <td>6626.962648</td>\n",
       "      <td>6557.325558</td>\n",
       "    </tr>\n",
       "  </tbody>\n",
       "</table>\n",
       "</div>"
      ],
      "text/plain": [
       "                            open        close    high     low     volume  \\\n",
       "MTS                                                                        \n",
       "2018-10-19 14:30:00  6587.100000  6566.100000  6610.7  6548.3  39.492365   \n",
       "2018-10-19 20:30:00  6565.700000  6523.207948  6593.2  6521.0  68.739587   \n",
       "2018-10-20 02:30:00  6519.951522  6538.600000  6548.4  6511.0  38.898320   \n",
       "2018-10-20 08:30:00  6538.700000  6576.900000  6590.6  6533.7  15.717216   \n",
       "2018-10-20 14:30:00  6575.900000  6594.000000  6606.0  6570.8  10.105902   \n",
       "\n",
       "                           sewma          bma          lma  \n",
       "MTS                                                         \n",
       "2018-10-19 14:30:00  6646.346737  6590.343836  6559.011543  \n",
       "2018-10-19 20:30:00  6623.957866  6598.166352  6557.799489  \n",
       "2018-10-20 02:30:00  6608.438254  6606.629315  6557.561651  \n",
       "2018-10-20 08:30:00  6602.704026  6616.444130  6557.505287  \n",
       "2018-10-20 14:30:00  6601.121476  6626.962648  6557.325558  "
      ]
     },
     "execution_count": 41,
     "metadata": {},
     "output_type": "execute_result"
    }
   ],
   "source": [
    "dataf.tail()"
   ]
  },
  {
   "cell_type": "code",
   "execution_count": 42,
   "metadata": {},
   "outputs": [
    {
     "data": {
      "text/plain": [
       "Timestamp('2018-10-20 14:30:00', freq='6H')"
      ]
     },
     "execution_count": 42,
     "metadata": {},
     "output_type": "execute_result"
    }
   ],
   "source": [
    "now = dataf.index[-1]\n",
    "now"
   ]
  },
  {
   "cell_type": "code",
   "execution_count": 53,
   "metadata": {},
   "outputs": [
    {
     "data": {
      "text/plain": [
       "Timestamp('2018-10-19 14:30:00', freq='6H')"
      ]
     },
     "execution_count": 53,
     "metadata": {},
     "output_type": "execute_result"
    }
   ],
   "source": [
    "then = now -timedelta(1)\n",
    "then"
   ]
  },
  {
   "cell_type": "code",
   "execution_count": 44,
   "metadata": {},
   "outputs": [
    {
     "data": {
      "text/plain": [
       "6594.0"
      ]
     },
     "execution_count": 44,
     "metadata": {},
     "output_type": "execute_result"
    }
   ],
   "source": [
    "dataf.loc[now]['close']"
   ]
  },
  {
   "cell_type": "code",
   "execution_count": 45,
   "metadata": {},
   "outputs": [
    {
     "data": {
      "text/plain": [
       "6566.1"
      ]
     },
     "execution_count": 45,
     "metadata": {},
     "output_type": "execute_result"
    }
   ],
   "source": [
    "dataf.loc[then]['close']"
   ]
  },
  {
   "cell_type": "code",
   "execution_count": 52,
   "metadata": {},
   "outputs": [
    {
     "data": {
      "text/plain": [
       "0.42"
      ]
     },
     "execution_count": 52,
     "metadata": {},
     "output_type": "execute_result"
    }
   ],
   "source": [
    "round((dataf.loc[now]['close'] - dataf.loc[then]['close']) *100 / dataf.loc[then]['close'], 2)"
   ]
  },
  {
   "cell_type": "code",
   "execution_count": 51,
   "metadata": {},
   "outputs": [
    {
     "data": {
      "text/plain": [
       "0.38"
      ]
     },
     "execution_count": 51,
     "metadata": {},
     "output_type": "execute_result"
    }
   ],
   "source": [
    "round(0.3784194, 2)"
   ]
  },
  {
   "cell_type": "code",
   "execution_count": 54,
   "metadata": {},
   "outputs": [
    {
     "data": {
      "text/plain": [
       "0.75"
      ]
     },
     "execution_count": 54,
     "metadata": {},
     "output_type": "execute_result"
    }
   ],
   "source": [
    "\n"
   ]
  },
  {
   "cell_type": "code",
   "execution_count": null,
   "metadata": {},
   "outputs": [],
   "source": []
  }
 ],
 "metadata": {
  "kernelspec": {
   "display_name": "Python 3",
   "language": "python",
   "name": "python3"
  },
  "language_info": {
   "codemirror_mode": {
    "name": "ipython",
    "version": 3
   },
   "file_extension": ".py",
   "mimetype": "text/x-python",
   "name": "python",
   "nbconvert_exporter": "python",
   "pygments_lexer": "ipython3",
   "version": "3.6.6"
  }
 },
 "nbformat": 4,
 "nbformat_minor": 2
}
