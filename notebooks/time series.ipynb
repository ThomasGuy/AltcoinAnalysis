{
 "cells": [
  {
   "cell_type": "code",
   "execution_count": 1,
   "metadata": {},
   "outputs": [],
   "source": [
    "import pandas as pd\n",
    "import matplotlib.pyplot as plt\n",
    "import numpy as np\n",
    "%matplotlib inline"
   ]
  },
  {
   "cell_type": "code",
   "execution_count": null,
   "metadata": {},
   "outputs": [],
   "source": []
  },
  {
   "cell_type": "code",
   "execution_count": 2,
   "metadata": {},
   "outputs": [],
   "source": [
    "ts = pd.DataFrame(np.random.randn(100, 4),\n",
    "                  index = pd.date_range('2010-01-01', periods = 100, freq='6H'),\n",
    "                 columns=['Sussex','Oxfordshire','Berkshire','Lanceshire'])"
   ]
  },
  {
   "cell_type": "code",
   "execution_count": 3,
   "metadata": {},
   "outputs": [
    {
     "data": {
      "text/html": [
       "<div>\n",
       "<style scoped>\n",
       "    .dataframe tbody tr th:only-of-type {\n",
       "        vertical-align: middle;\n",
       "    }\n",
       "\n",
       "    .dataframe tbody tr th {\n",
       "        vertical-align: top;\n",
       "    }\n",
       "\n",
       "    .dataframe thead th {\n",
       "        text-align: right;\n",
       "    }\n",
       "</style>\n",
       "<table border=\"1\" class=\"dataframe\">\n",
       "  <thead>\n",
       "    <tr style=\"text-align: right;\">\n",
       "      <th></th>\n",
       "      <th>Sussex</th>\n",
       "      <th>Oxfordshire</th>\n",
       "      <th>Berkshire</th>\n",
       "      <th>Lanceshire</th>\n",
       "    </tr>\n",
       "  </thead>\n",
       "  <tbody>\n",
       "    <tr>\n",
       "      <th>2010-01-01 00:00:00</th>\n",
       "      <td>-1.112549</td>\n",
       "      <td>0.208641</td>\n",
       "      <td>-1.861488</td>\n",
       "      <td>-1.095352</td>\n",
       "    </tr>\n",
       "    <tr>\n",
       "      <th>2010-01-01 06:00:00</th>\n",
       "      <td>1.213696</td>\n",
       "      <td>0.745694</td>\n",
       "      <td>-0.000969</td>\n",
       "      <td>-0.777006</td>\n",
       "    </tr>\n",
       "    <tr>\n",
       "      <th>2010-01-01 12:00:00</th>\n",
       "      <td>-0.021534</td>\n",
       "      <td>-0.742078</td>\n",
       "      <td>0.476359</td>\n",
       "      <td>1.140947</td>\n",
       "    </tr>\n",
       "    <tr>\n",
       "      <th>2010-01-01 18:00:00</th>\n",
       "      <td>0.743181</td>\n",
       "      <td>-1.239891</td>\n",
       "      <td>1.397701</td>\n",
       "      <td>-0.606336</td>\n",
       "    </tr>\n",
       "    <tr>\n",
       "      <th>2010-01-02 00:00:00</th>\n",
       "      <td>-0.445655</td>\n",
       "      <td>1.059184</td>\n",
       "      <td>-0.613872</td>\n",
       "      <td>0.041071</td>\n",
       "    </tr>\n",
       "  </tbody>\n",
       "</table>\n",
       "</div>"
      ],
      "text/plain": [
       "                       Sussex  Oxfordshire  Berkshire  Lanceshire\n",
       "2010-01-01 00:00:00 -1.112549     0.208641  -1.861488   -1.095352\n",
       "2010-01-01 06:00:00  1.213696     0.745694  -0.000969   -0.777006\n",
       "2010-01-01 12:00:00 -0.021534    -0.742078   0.476359    1.140947\n",
       "2010-01-01 18:00:00  0.743181    -1.239891   1.397701   -0.606336\n",
       "2010-01-02 00:00:00 -0.445655     1.059184  -0.613872    0.041071"
      ]
     },
     "execution_count": 3,
     "metadata": {},
     "output_type": "execute_result"
    }
   ],
   "source": [
    "ts.head()"
   ]
  },
  {
   "cell_type": "code",
   "execution_count": null,
   "metadata": {},
   "outputs": [],
   "source": []
  },
  {
   "cell_type": "code",
   "execution_count": 4,
   "metadata": {},
   "outputs": [
    {
     "data": {
      "text/plain": [
       "<matplotlib.axes._subplots.AxesSubplot at 0x246ab2b4908>"
      ]
     },
     "execution_count": 4,
     "metadata": {},
     "output_type": "execute_result"
    },
    {
     "data": {
      "image/png": "[encoded data removed]",
      "text/plain": [
       "<Figure size 432x288 with 1 Axes>"
      ]
     },
     "metadata": {},
     "output_type": "display_data"
    }
   ],
   "source": [
    "ts['Oxfordshire'].plot(kind='kde')"
   ]
  },
  {
   "cell_type": "code",
   "execution_count": 5,
   "metadata": {},
   "outputs": [
    {
     "data": {
      "text/plain": [
       "<matplotlib.axes._subplots.AxesSubplot at 0x246abf49cf8>"
      ]
     },
     "execution_count": 5,
     "metadata": {},
     "output_type": "execute_result"
    },
    {
     "data": {
      "image/png": "[encoded data removed]",
      "text/plain": [
       "<Figure size 432x288 with 1 Axes>"
      ]
     },
     "metadata": {},
     "output_type": "display_data"
    }
   ],
   "source": [
    "ts.Sussex.plot(kind='kde')"
   ]
  },
  {
   "cell_type": "code",
   "execution_count": null,
   "metadata": {},
   "outputs": [],
   "source": []
  },
  {
   "cell_type": "code",
   "execution_count": null,
   "metadata": {},
   "outputs": [],
   "source": []
  }
 ],
 "metadata": {
  "kernelspec": {
   "display_name": "Python 3",
   "language": "python",
   "name": "python3"
  },
  "language_info": {
   "codemirror_mode": {
    "name": "ipython",
    "version": 3
   },
   "file_extension": ".py",
   "mimetype": "text/x-python",
   "name": "python",
   "nbconvert_exporter": "python",
   "pygments_lexer": "ipython3",
   "version": "3.6.6"
  }
 },
 "nbformat": 4,
 "nbformat_minor": 2
}
