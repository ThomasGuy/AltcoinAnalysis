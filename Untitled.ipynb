{
 "cells": [
  {
   "cell_type": "code",
   "execution_count": 1,
   "metadata": {},
   "outputs": [],
   "source": [
    "import matplotlib.pyplot as plt\n",
    "from datetime import datetime\n",
    "import pandas as pd\n",
    "import seaborn as sns\n",
    "import numpy as np\n",
    "%matplotlib inline\n",
    "from Altcoin.altcoin.getData import getData, showName\n",
    "from Altcoin.altcoin.coinData import CoinData\n",
    "from Altcoin.altcoin.getBitfinexCandles import updateAll\n",
    "from TickTocTest.ticktoctest.tickToc import getDBdata"
   ]
  },
  {
   "cell_type": "code",
   "execution_count": 2,
   "metadata": {},
   "outputs": [],
   "source": [
    "btc = CoinData('btc', getDBdata)\n",
    "xlm = CoinData('xlm', getDBdata)\n",
    "eth = CoinData('eth', getDBdata)\n",
    "xrp = CoinData('xrp', getDBdata)\n",
    "eos = CoinData('eos', getDBdata)\n",
    "neo = CoinData('neo', getDBdata)\n",
    "omg = CoinData('omg', getDBdata)\n",
    "xmr = CoinData('xmr', getDBdata)\n",
    "dsh = CoinData('dsh', getDBdata)\n",
    "iot = CoinData('iot', getDBdata)"
   ]
  },
  {
   "cell_type": "code",
   "execution_count": 3,
   "metadata": {},
   "outputs": [],
   "source": [
    "start = '2018-07-01'"
   ]
  },
  {
   "cell_type": "code",
   "execution_count": 4,
   "metadata": {},
   "outputs": [],
   "source": [
    "CoinData.setParams(20, 53, 132, '3h')"
   ]
  },
  {
   "cell_type": "code",
   "execution_count": 5,
   "metadata": {},
   "outputs": [
    {
     "name": "stdout",
     "output_type": "stream",
     "text": [
      "btc is on a  \"Sell\"  since 2018/09/25 19:09\n",
      "xlm is on a  \"Sell\"  since 2018/09/27 01:09\n",
      "eth is on a  \"Sell\"  since 2018/09/25 19:09\n",
      "xrp is on a  \"Sell\"  since 2018/09/26 22:09\n",
      "eos is on a  \"Sell\"  since 2018/09/25 13:09\n",
      "neo is on a  \"Sell\"  since 2018/09/25 19:09\n",
      "omg is on a  \"Sell\"  since 2018/09/25 19:09\n",
      "xmr is on a  \"Sell\"  since 2018/09/25 19:09\n",
      "dsh is on a  \"Sell\"  since 2018/09/25 07:09\n",
      "iot is on a  \"Sell\"  since 2018/09/25 13:09\n"
     ]
    }
   ],
   "source": [
    "CoinData.portfolio.position()"
   ]
  },
  {
   "cell_type": "code",
   "execution_count": null,
   "metadata": {},
   "outputs": [],
   "source": []
  },
  {
   "cell_type": "code",
   "execution_count": null,
   "metadata": {},
   "outputs": [],
   "source": [
    "btc.plot(start)"
   ]
  },
  {
   "cell_type": "code",
   "execution_count": null,
   "metadata": {
    "scrolled": true
   },
   "outputs": [],
   "source": []
  },
  {
   "cell_type": "code",
   "execution_count": null,
   "metadata": {},
   "outputs": [],
   "source": [
    "CoinData.portfolio.price()"
   ]
  },
  {
   "cell_type": "code",
   "execution_count": null,
   "metadata": {},
   "outputs": [],
   "source": []
  },
  {
   "cell_type": "code",
   "execution_count": null,
   "metadata": {},
   "outputs": [],
   "source": []
  },
  {
   "cell_type": "code",
   "execution_count": null,
   "metadata": {},
   "outputs": [],
   "source": [
    "btc.plot(start)"
   ]
  },
  {
   "cell_type": "code",
   "execution_count": null,
   "metadata": {},
   "outputs": [],
   "source": [
    "btc.trendPlot(start)"
   ]
  },
  {
   "cell_type": "code",
   "execution_count": null,
   "metadata": {},
   "outputs": [],
   "source": [
    "xrp.plot(start)"
   ]
  },
  {
   "cell_type": "code",
   "execution_count": null,
   "metadata": {},
   "outputs": [],
   "source": [
    "xrp.trendPlot(start)"
   ]
  },
  {
   "cell_type": "code",
   "execution_count": null,
   "metadata": {},
   "outputs": [],
   "source": [
    "xrp.plotCandles()"
   ]
  },
  {
   "cell_type": "code",
   "execution_count": null,
   "metadata": {},
   "outputs": [],
   "source": []
  },
  {
   "cell_type": "code",
   "execution_count": null,
   "metadata": {},
   "outputs": [],
   "source": []
  }
 ],
 "metadata": {
  "kernelspec": {
   "display_name": "Python 3",
   "language": "python",
   "name": "python3"
  },
  "language_info": {
   "codemirror_mode": {
    "name": "ipython",
    "version": 3
   },
   "file_extension": ".py",
   "mimetype": "text/x-python",
   "name": "python",
   "nbconvert_exporter": "python",
   "pygments_lexer": "ipython3",
   "version": "3.6.5"
  }
 },
 "nbformat": 4,
 "nbformat_minor": 2
}
